{
 "cells": [
  {
   "cell_type": "code",
   "execution_count": 1,
   "metadata": {
    "collapsed": true
   },
   "outputs": [],
   "source": [
    "midifile = 'data/chopin-fantaisie.mid'"
   ]
  },
  {
   "cell_type": "code",
   "execution_count": 2,
   "metadata": {
    "collapsed": false
   },
   "outputs": [
    {
     "name": "stdout",
     "output_type": "stream",
     "text": [
      "device 0 ('ALSA', 'Midi Through Port-0', 0, 1, 0)\n",
      "device 1 ('ALSA', 'Midi Through Port-0', 1, 0, 0)\n",
      "device 2 ('ALSA', 'TiMidity port 0', 0, 1, 0)\n",
      "device 3 ('ALSA', 'TiMidity port 1', 0, 1, 0)\n",
      "device 4 ('ALSA', 'TiMidity port 2', 0, 1, 0)\n",
      "device 5 ('ALSA', 'TiMidity port 3', 0, 1, 0)\n"
     ]
    }
   ],
   "source": [
    "import time\n",
    "import copy\n",
    "import subprocess\n",
    "from abc import abstractmethod\n",
    "\n",
    "import numpy as np\n",
    "import midi # Midi file parser\n",
    "\n",
    "from midipattern import MidiPattern\n",
    "from distorter import *\n",
    "from align import align_frame_to_frame, read_align, write_align"
   ]
  },
  {
   "cell_type": "code",
   "execution_count": 3,
   "metadata": {
    "collapsed": true
   },
   "outputs": [],
   "source": [
    "MidiPattern.MIDI_DEVICE = 2"
   ]
  },
  {
   "cell_type": "markdown",
   "metadata": {},
   "source": [
    "Init Pygame and Audio\n",
    "--------"
   ]
  },
  {
   "cell_type": "markdown",
   "metadata": {},
   "source": [
    "Midi Pattern\n",
    "--------"
   ]
  },
  {
   "cell_type": "code",
   "execution_count": 4,
   "metadata": {
    "collapsed": false
   },
   "outputs": [],
   "source": [
    "pattern = MidiPattern(midi.read_midifile(midifile))\n",
    "simple = pattern.simplified(bpm=160)\n",
    "simple.stamp_time('t0')\n",
    "midi.write_midifile(\"generated/simple.mid\", simple)"
   ]
  },
  {
   "cell_type": "code",
   "execution_count": 5,
   "metadata": {
    "collapsed": false
   },
   "outputs": [
    {
     "name": "stdout",
     "output_type": "stream",
     "text": [
      "[{'t0': 203.24999999999994}, {'t0': 203.25468749999993}, {'t0': 203.34843749999993}, {'t0': 203.34843749999993}, {'t0': 203.43749999999994}, {'t0': 203.44218749999993}, {'t0': 203.53124999999994}, {'t0': 203.53124999999994}, {'t0': 203.62499999999994}, {'t0': 203.62499999999994}, {'t0': 203.71874999999994}, {'t0': 203.71874999999994}, {'t0': 203.81249999999994}, {'t0': 203.81249999999994}, {'t0': 203.90624999999994}, {'t0': 203.90624999999994}, {'t0': 203.99999999999994}, {'t0': 203.99999999999994}, {'t0': 203.99999999999994}, {'t0': 203.99999999999994}, {'t0': 204.04687499999994}, {'t0': 204.09374999999994}, {'t0': 204.14062499999994}, {'t0': 204.18749999999994}, {'t0': 204.28124999999994}, {'t0': 205.49999999999994}, {'t0': 205.49999999999994}, {'t0': 205.49999999999994}, {'t0': 205.49999999999994}, {'t0': 205.49999999999994}, {'t0': 205.49999999999994}, {'t0': 205.54687499999994}, {'t0': 205.59374999999994}, {'t0': 205.64062499999994}, {'t0': 206.99999999999994}, {'t0': 206.99999999999994}, {'t0': 206.99999999999994}, {'t0': 206.99999999999994}, {'t0': 206.99999999999994}, {'t0': 209.52109374999995}]\n"
     ]
    }
   ],
   "source": [
    "print simple.attributes[0][-40:]"
   ]
  },
  {
   "cell_type": "code",
   "execution_count": 6,
   "metadata": {
    "collapsed": false
   },
   "outputs": [
    {
     "name": "stdout",
     "output_type": "stream",
     "text": [
      "Was playing note 40 time 4.44444444444\n"
     ]
    }
   ],
   "source": [
    "pattern[0]\n",
    "pattern.play(180)"
   ]
  },
  {
   "cell_type": "code",
   "execution_count": 7,
   "metadata": {
    "collapsed": false
   },
   "outputs": [
    {
     "name": "stdout",
     "output_type": "stream",
     "text": [
      "Was playing note 5 time 3.0\n"
     ]
    }
   ],
   "source": [
    "simple.play()"
   ]
  },
  {
   "cell_type": "markdown",
   "metadata": {},
   "source": [
    "Distorter\n",
    "--------"
   ]
  },
  {
   "cell_type": "code",
   "execution_count": 8,
   "metadata": {
    "collapsed": false
   },
   "outputs": [
    {
     "name": "stdout",
     "output_type": "stream",
     "text": [
      "VelocityNoiseDistorter(sigma=7.63)\n",
      "Was playing note 5 time 2.66666666667\n"
     ]
    }
   ],
   "source": [
    "distorter = VelocityNoiseDistorter(sigma=20.)\n",
    "distorter.randomize()\n",
    "print distorter\n",
    "dist_pattern = distorter.distort(simple)\n",
    "midi.write_midifile('generated/velocity-noise.mid', dist_pattern)\n",
    "dist_pattern.play(bpm=180)"
   ]
  },
  {
   "cell_type": "code",
   "execution_count": 9,
   "metadata": {
    "collapsed": false
   },
   "outputs": [
    {
     "name": "stdout",
     "output_type": "stream",
     "text": [
      "[{'t': 206.99999999999994, 't0': 206.99999999999994}, {'t': 206.99999999999994, 't0': 206.99999999999994}, {'t': 206.99999999999994, 't0': 206.99999999999994}, {'t': 209.52109374999995, 't0': 209.52109374999995}]\n"
     ]
    }
   ],
   "source": [
    "print dist_pattern.attributes[0][-4:]"
   ]
  },
  {
   "cell_type": "code",
   "execution_count": 10,
   "metadata": {
    "collapsed": false
   },
   "outputs": [
    {
     "name": "stdout",
     "output_type": "stream",
     "text": [
      "VelocityWalkDistorter(sigma=19.24, min=1.18, max=1.23)\n",
      "Was playing note 5 time 2.66666666667\n"
     ]
    }
   ],
   "source": [
    "distorter = VelocityWalkDistorter(sigma=0.1)\n",
    "distorter.randomize()\n",
    "print distorter\n",
    "dist_pattern = distorter.distort(simple)\n",
    "midi.write_midifile('generated/velocity-walk.mid', dist_pattern)\n",
    "dist_pattern.play(bpm=180)"
   ]
  },
  {
   "cell_type": "code",
   "execution_count": 11,
   "metadata": {
    "collapsed": false
   },
   "outputs": [
    {
     "name": "stdout",
     "output_type": "stream",
     "text": [
      "ProgramDistorter(ticks=0.00)\n",
      "Was playing note 19 time 2.66666666667\n"
     ]
    }
   ],
   "source": [
    "distorter = ProgramDistorter()\n",
    "distorter.randomize()\n",
    "# for some reason GM 1- 3 makes no sound in pygame?\n",
    "print distorter\n",
    "dist_pattern = distorter.distort(simple)\n",
    "midi.write_midifile('generated/program.mid', dist_pattern)\n",
    "dist_pattern.play(bpm=180)"
   ]
  },
  {
   "cell_type": "code",
   "execution_count": 12,
   "metadata": {
    "collapsed": false
   },
   "outputs": [
    {
     "name": "stdout",
     "output_type": "stream",
     "text": [
      "TempoDistorter(sigma=0.83, min=0.99, max=1.21)\n",
      "time warp [{'t': 200.28854166666386, 't0': 206.99999999999994}, {'t': 200.28932291666385, 't0': 206.99999999999994}, {'t': 200.29010416666384, 't0': 206.99999999999994}, {'t': 200.38932291666384, 't0': 209.52109374999995}]\n",
      "Was playing note 14 time 0.360416666667\n"
     ]
    }
   ],
   "source": [
    "distorter = TempoDistorter(sigma=0, min=0.5, max=2.)\n",
    "distorter.randomize()\n",
    "print distorter\n",
    "dist_pattern = distorter.distort(simple)\n",
    "print 'time warp', dist_pattern.attributes[0][-4:]\n",
    "midi.write_midifile('generated/tempo.mid', dist_pattern)\n",
    "dist_pattern.play(bpm=180)"
   ]
  },
  {
   "cell_type": "code",
   "execution_count": 13,
   "metadata": {
    "collapsed": false
   },
   "outputs": [
    {
     "name": "stdout",
     "output_type": "stream",
     "text": [
      "TimeNoiseDistorter(sigma=0.08)\n",
      "time warp [{'t': 206.99999999999977, 't0': 206.99999999999994}, {'t': 206.99999999999977, 't0': 206.99999999999994}, {'t': 206.99999999999977, 't0': 206.99999999999994}, {'t': 209.52109374999978, 't0': 209.52109374999995}]\n",
      "Was playing note 5 time 2.62916666667\n"
     ]
    }
   ],
   "source": [
    "distorter = TimeNoiseDistorter()\n",
    "distorter.randomize()\n",
    "print distorter\n",
    "dist_pattern = distorter.distort(simple)\n",
    "print 'time warp', dist_pattern.attributes[0][-4:]\n",
    "midi.write_midifile('generated/time.mid', dist_pattern)\n",
    "dist_pattern.play(bpm=180)"
   ]
  },
  {
   "cell_type": "markdown",
   "metadata": {
    "collapsed": false
   },
   "source": [
    "Individual Note Times to Global Alignment\n",
    "-------"
   ]
  },
  {
   "cell_type": "code",
   "execution_count": 14,
   "metadata": {
    "collapsed": false
   },
   "outputs": [
    {
     "data": {
      "text/plain": [
       "[0,\n",
       " 1,\n",
       " 3,\n",
       " 3,\n",
       " 4,\n",
       " 5,\n",
       " 6,\n",
       " 7,\n",
       " 8,\n",
       " 9,\n",
       " 10,\n",
       " 11,\n",
       " 12,\n",
       " 13,\n",
       " 14,\n",
       " 15,\n",
       " 16,\n",
       " 17,\n",
       " 18,\n",
       " 19,\n",
       " 20,\n",
       " 21,\n",
       " 22,\n",
       " 23,\n",
       " 24,\n",
       " 25,\n",
       " 26,\n",
       " 27,\n",
       " 28,\n",
       " 29,\n",
       " 30,\n",
       " 31,\n",
       " 32,\n",
       " 33,\n",
       " 34,\n",
       " 35,\n",
       " 36,\n",
       " 37,\n",
       " 38,\n",
       " 39,\n",
       " 40,\n",
       " 41,\n",
       " 42,\n",
       " 43,\n",
       " 44,\n",
       " 45,\n",
       " 46,\n",
       " 47,\n",
       " 48,\n",
       " 49,\n",
       " 50,\n",
       " 51,\n",
       " 52,\n",
       " 53,\n",
       " 54,\n",
       " 55,\n",
       " 56,\n",
       " 57,\n",
       " 58,\n",
       " 59,\n",
       " 60,\n",
       " 61,\n",
       " 62,\n",
       " 63,\n",
       " 64,\n",
       " 65,\n",
       " 66,\n",
       " 67,\n",
       " 68,\n",
       " 69,\n",
       " 70,\n",
       " 71,\n",
       " 72,\n",
       " 73,\n",
       " 74,\n",
       " 75,\n",
       " 76,\n",
       " 77,\n",
       " 78,\n",
       " 79,\n",
       " 80,\n",
       " 81,\n",
       " 82,\n",
       " 83,\n",
       " 84,\n",
       " 85,\n",
       " 86,\n",
       " 87,\n",
       " 88,\n",
       " 89,\n",
       " 90,\n",
       " 91,\n",
       " 92,\n",
       " 93,\n",
       " 94,\n",
       " 95,\n",
       " 96,\n",
       " 97,\n",
       " 98,\n",
       " 99,\n",
       " 100,\n",
       " 101,\n",
       " 102,\n",
       " 103,\n",
       " 104,\n",
       " 105,\n",
       " 106,\n",
       " 107,\n",
       " 108,\n",
       " 109,\n",
       " 110,\n",
       " 111,\n",
       " 112,\n",
       " 113,\n",
       " 114,\n",
       " 115,\n",
       " 116,\n",
       " 117,\n",
       " 118,\n",
       " 119,\n",
       " 120,\n",
       " 121,\n",
       " 122,\n",
       " 123,\n",
       " 124,\n",
       " 125,\n",
       " 126,\n",
       " 127,\n",
       " 128,\n",
       " 129,\n",
       " 130,\n",
       " 131,\n",
       " 132,\n",
       " 133,\n",
       " 134,\n",
       " 135,\n",
       " 136,\n",
       " 137,\n",
       " 138,\n",
       " 139,\n",
       " 140,\n",
       " 141,\n",
       " 142,\n",
       " 143,\n",
       " 144,\n",
       " 145,\n",
       " 146,\n",
       " 147,\n",
       " 148,\n",
       " 149,\n",
       " 150,\n",
       " 151,\n",
       " 152,\n",
       " 153,\n",
       " 154,\n",
       " 155,\n",
       " 156,\n",
       " 157,\n",
       " 158,\n",
       " 159,\n",
       " 160,\n",
       " 161,\n",
       " 162,\n",
       " 163,\n",
       " 164,\n",
       " 165,\n",
       " 166,\n",
       " 167,\n",
       " 168,\n",
       " 169,\n",
       " 170,\n",
       " 171,\n",
       " 172,\n",
       " 173,\n",
       " 174,\n",
       " 175,\n",
       " 176,\n",
       " 177,\n",
       " 178,\n",
       " 179,\n",
       " 180,\n",
       " 181,\n",
       " 182,\n",
       " 183,\n",
       " 184,\n",
       " 185,\n",
       " 186,\n",
       " 187,\n",
       " 188,\n",
       " 189,\n",
       " 190,\n",
       " 191,\n",
       " 192,\n",
       " 193,\n",
       " 194,\n",
       " 195,\n",
       " 196,\n",
       " 197,\n",
       " 198,\n",
       " 199,\n",
       " 200,\n",
       " 201,\n",
       " 202,\n",
       " 203,\n",
       " 204,\n",
       " 205,\n",
       " 206,\n",
       " 207,\n",
       " 208,\n",
       " 209]"
      ]
     },
     "execution_count": 14,
     "metadata": {},
     "output_type": "execute_result"
    }
   ],
   "source": [
    "stride = 1.\n",
    "align = align_frame_to_frame(dist_pattern, stride)\n",
    "align"
   ]
  },
  {
   "cell_type": "code",
   "execution_count": 15,
   "metadata": {
    "collapsed": false
   },
   "outputs": [
    {
     "name": "stdout",
     "output_type": "stream",
     "text": [
      "True\n",
      "True 1.0 1.0\n"
     ]
    }
   ],
   "source": [
    "write_align('generated/align.txt', align, stride)\n",
    "align2, stride2 = read_align('generated/align.txt')\n",
    "print align2 == align\n",
    "print int(stride2) == int(stride), stride2, stride"
   ]
  },
  {
   "cell_type": "markdown",
   "metadata": {},
   "source": [
    "Actual Generation\n",
    "----"
   ]
  },
  {
   "cell_type": "code",
   "execution_count": 20,
   "metadata": {
    "collapsed": false
   },
   "outputs": [
    {
     "name": "stdout",
     "output_type": "stream",
     "text": [
      "[2, 4, 5, 6, 7, 8, 9, 10, 11, 12, 13, 14, 15, 16, 17, 17, 18, 19, 20, 21, 22, 23, 24, 25, 26, 27, 28, 28, 29, 30, 31, 32, 33, 34, 35, 36, 37, 38, 39, 39, 40, 41, 42, 43, 44, 45, 46, 47, 48, 49, 50, 51, 52, 53, 54, 55, 56, 57, 57, 58, 59, 61, 62, 63, 64, 65, 67, 68, 69, 70, 71, 73, 74, 75, 76, 77, 79, 80, 81, 82, 83, 84, 86, 87, 88, 89, 90, 91, 92, 94, 95, 96, 97, 98, 100, 101, 102, 103, 104, 106, 107, 108, 109, 110, 111, 112, 114, 115, 116, 117, 118, 119, 120, 122, 123, 124, 125, 126, 127, 128, 129, 129, 130, 131, 132, 133, 134, 135, 136, 137, 138, 139, 140, 140, 141, 142, 143, 144, 145, 146, 147, 148, 149, 150, 151, 152, 152, 153, 154, 155, 156, 157, 158, 159, 160, 161, 162, 163, 163, 164, 165, 166, 167, 168, 169, 170, 171, 172, 173, 174, 175, 176, 177, 178, 179, 180, 181, 182, 183, 183, 184, 185, 186, 187, 188, 189, 190, 191, 192, 193, 194, 195, 196, 197, 198, 199, 200, 201, 202, 203, 204, 207]\n",
      "Was playing note 77 time 3.18072916667\n"
     ]
    }
   ],
   "source": [
    "dist_pattern = random_distort(simple)\n",
    "align = align_frame_to_frame(dist_pattern, stride=1.)\n",
    "print align\n",
    "dist_pattern.play()"
   ]
  },
  {
   "cell_type": "code",
   "execution_count": 21,
   "metadata": {
    "collapsed": false
   },
   "outputs": [
    {
     "name": "stdout",
     "output_type": "stream",
     "text": [
      "generated/sample-0.wav\n",
      "Done generating generated/sample-0\n",
      "generated/sample-1.wav\n",
      "Done generating generated/sample-1\n",
      "generated/sample-2.wav\n",
      "Done generating generated/sample-2\n",
      "generated/sample-3.wav\n",
      "Done generating generated/sample-3\n",
      "generated/sample-4.wav\n",
      "Done generating generated/sample-4\n",
      "generated/sample-5.wav\n",
      "Done generating generated/sample-5\n",
      "generated/sample-6.wav\n",
      "Done generating generated/sample-6\n",
      "generated/sample-7.wav\n",
      "Done generating generated/sample-7\n",
      "generated/sample-8.wav\n",
      "Done generating generated/sample-8\n",
      "generated/sample-9.wav\n",
      "Done generating generated/sample-9\n"
     ]
    }
   ],
   "source": [
    "num_samples = 10\n",
    "stride = 0.1\n",
    "for i in xrange(num_samples):\n",
    "    base_name = 'generated/sample-{}'.format(i)\n",
    "    align_name = '{}.txt'.format(base_name)\n",
    "    midi_name = '{}.mid'.format(base_name)\n",
    "    wav_name = '{}.wav'.format(base_name)\n",
    "    distorted = random_distort(simple)\n",
    "    align = align_frame_to_frame(distorted, stride)\n",
    "    write_align(align_name, align, stride)\n",
    "    midi.write_midifile(midi_name, distorted)\n",
    "    # Convert to wav using timidity\n",
    "    print wav_name\n",
    "    subprocess.check_call(['timidity', '-Ow', midi_name, '-o', wav_name])\n",
    "    print 'Done generating {}'.format(base_name)"
   ]
  }
 ],
 "metadata": {
  "kernelspec": {
   "display_name": "Python 2",
   "language": "python",
   "name": "python2"
  },
  "language_info": {
   "codemirror_mode": {
    "name": "ipython",
    "version": 2
   },
   "file_extension": ".py",
   "mimetype": "text/x-python",
   "name": "python",
   "nbconvert_exporter": "python",
   "pygments_lexer": "ipython2",
   "version": "2.7.6"
  }
 },
 "nbformat": 4,
 "nbformat_minor": 0
}
