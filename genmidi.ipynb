{
 "cells": [
  {
   "cell_type": "code",
   "execution_count": 1,
   "metadata": {
    "collapsed": true
   },
   "outputs": [],
   "source": [
    "midifile = 'data/chopin-fantaisie.mid'"
   ]
  },
  {
   "cell_type": "code",
   "execution_count": 2,
   "metadata": {
    "collapsed": false
   },
   "outputs": [
    {
     "name": "stdout",
     "output_type": "stream",
     "text": [
      "device 0 ('ALSA', 'Midi Through Port-0', 0, 1, 0)\n",
      "device 1 ('ALSA', 'Midi Through Port-0', 1, 0, 0)\n",
      "device 2 ('ALSA', 'TiMidity port 0', 0, 1, 0)\n",
      "device 3 ('ALSA', 'TiMidity port 1', 0, 1, 0)\n",
      "device 4 ('ALSA', 'TiMidity port 2', 0, 1, 0)\n",
      "device 5 ('ALSA', 'TiMidity port 3', 0, 1, 0)\n"
     ]
    }
   ],
   "source": [
    "import time\n",
    "import copy\n",
    "import subprocess\n",
    "from abc import abstractmethod\n",
    "\n",
    "from midipattern import MidiPattern\n",
    "from distorter import *\n",
    "\n",
    "# Midi file parser\n",
    "import midi"
   ]
  },
  {
   "cell_type": "code",
   "execution_count": 3,
   "metadata": {
    "collapsed": true
   },
   "outputs": [],
   "source": [
    "MidiPattern.MIDI_DEVICE = 2"
   ]
  },
  {
   "cell_type": "markdown",
   "metadata": {},
   "source": [
    "Init Pygame and Audio\n",
    "--------"
   ]
  },
  {
   "cell_type": "markdown",
   "metadata": {},
   "source": [
    "Midi Pattern\n",
    "--------"
   ]
  },
  {
   "cell_type": "code",
   "execution_count": 4,
   "metadata": {
    "collapsed": false
   },
   "outputs": [],
   "source": [
    "pattern = MidiPattern(midi.read_midifile(midifile))\n",
    "simple = pattern.simplified(bpm=160)\n",
    "simple.stamp_time('t0')\n",
    "midi.write_midifile(\"generated/simple.mid\", simple)"
   ]
  },
  {
   "cell_type": "code",
   "execution_count": 5,
   "metadata": {
    "collapsed": false
   },
   "outputs": [
    {
     "name": "stdout",
     "output_type": "stream",
     "text": [
      "[{'t0': 203.24999999999994}, {'t0': 203.25468749999993}, {'t0': 203.34843749999993}, {'t0': 203.34843749999993}, {'t0': 203.43749999999994}, {'t0': 203.44218749999993}, {'t0': 203.53124999999994}, {'t0': 203.53124999999994}, {'t0': 203.62499999999994}, {'t0': 203.62499999999994}, {'t0': 203.71874999999994}, {'t0': 203.71874999999994}, {'t0': 203.81249999999994}, {'t0': 203.81249999999994}, {'t0': 203.90624999999994}, {'t0': 203.90624999999994}, {'t0': 203.99999999999994}, {'t0': 203.99999999999994}, {'t0': 203.99999999999994}, {'t0': 203.99999999999994}, {'t0': 204.04687499999994}, {'t0': 204.09374999999994}, {'t0': 204.14062499999994}, {'t0': 204.18749999999994}, {'t0': 204.28124999999994}, {'t0': 205.49999999999994}, {'t0': 205.49999999999994}, {'t0': 205.49999999999994}, {'t0': 205.49999999999994}, {'t0': 205.49999999999994}, {'t0': 205.49999999999994}, {'t0': 205.54687499999994}, {'t0': 205.59374999999994}, {'t0': 205.64062499999994}, {'t0': 206.99999999999994}, {'t0': 206.99999999999994}, {'t0': 206.99999999999994}, {'t0': 206.99999999999994}, {'t0': 206.99999999999994}, {'t0': 209.52109374999995}]\n"
     ]
    }
   ],
   "source": [
    "print simple.attributes[0][-40:]"
   ]
  },
  {
   "cell_type": "code",
   "execution_count": 6,
   "metadata": {
    "collapsed": false
   },
   "outputs": [
    {
     "name": "stdout",
     "output_type": "stream",
     "text": [
      "Was playing note 5 time 2.66666666667\n"
     ]
    }
   ],
   "source": [
    "pattern[0]\n",
    "pattern.play(180)"
   ]
  },
  {
   "cell_type": "code",
   "execution_count": 7,
   "metadata": {
    "collapsed": false
   },
   "outputs": [
    {
     "name": "stdout",
     "output_type": "stream",
     "text": [
      "Was playing note 5 time 3.0\n"
     ]
    }
   ],
   "source": [
    "simple.play()"
   ]
  },
  {
   "cell_type": "markdown",
   "metadata": {},
   "source": [
    "Distorter\n",
    "--------"
   ]
  },
  {
   "cell_type": "code",
   "execution_count": 8,
   "metadata": {
    "collapsed": false
   },
   "outputs": [
    {
     "name": "stdout",
     "output_type": "stream",
     "text": [
      "VelocityNoiseDistorter(sigma=13.99)\n",
      "Was playing note 24 time 3.55555555556\n"
     ]
    }
   ],
   "source": [
    "distorter = VelocityNoiseDistorter(sigma=20.)\n",
    "distorter.randomize()\n",
    "print distorter\n",
    "dist_pattern = distorter.distort(simple)\n",
    "midi.write_midifile('generated/velocity-noise.mid', dist_pattern)\n",
    "dist_pattern.play(bpm=180)"
   ]
  },
  {
   "cell_type": "code",
   "execution_count": 9,
   "metadata": {
    "collapsed": false
   },
   "outputs": [
    {
     "name": "stdout",
     "output_type": "stream",
     "text": [
      "[{'t': 206.99999999999994, 't0': 206.99999999999994}, {'t': 206.99999999999994, 't0': 206.99999999999994}, {'t': 206.99999999999994, 't0': 206.99999999999994}, {'t': 209.52109374999995, 't0': 209.52109374999995}]\n"
     ]
    }
   ],
   "source": [
    "print dist_pattern.attributes[0][-4:]"
   ]
  },
  {
   "cell_type": "code",
   "execution_count": 10,
   "metadata": {
    "collapsed": false
   },
   "outputs": [
    {
     "name": "stdout",
     "output_type": "stream",
     "text": [
      "VelocityWalkDistorter(sigma=17.44, min=0.39, max=0.43)\n",
      "Was playing note 20 time 3.33333333333\n"
     ]
    }
   ],
   "source": [
    "distorter = VelocityWalkDistorter(sigma=0.1)\n",
    "distorter.randomize()\n",
    "print distorter\n",
    "dist_pattern = distorter.distort(simple)\n",
    "midi.write_midifile('generated/velocity-walk.mid', dist_pattern)\n",
    "dist_pattern.play(bpm=180)"
   ]
  },
  {
   "cell_type": "code",
   "execution_count": 11,
   "metadata": {
    "collapsed": false
   },
   "outputs": [
    {
     "name": "stdout",
     "output_type": "stream",
     "text": [
      "ProgramDistorter(ticks=0.00)\n",
      "Was playing note 19 time 2.66666666667\n"
     ]
    }
   ],
   "source": [
    "distorter = ProgramDistorter()\n",
    "distorter.randomize()\n",
    "# for some reason GM 1- 3 makes no sound in pygame?\n",
    "print distorter\n",
    "dist_pattern = distorter.distort(simple)\n",
    "midi.write_midifile('generated/program.mid', dist_pattern)\n",
    "dist_pattern.play(bpm=180)"
   ]
  },
  {
   "cell_type": "code",
   "execution_count": 12,
   "metadata": {
    "collapsed": false
   },
   "outputs": [
    {
     "name": "stdout",
     "output_type": "stream",
     "text": [
      "TempoDistorter(sigma=0.48, min=0.72, max=1.49)\n",
      "time warp [{'t': 206.99999999999994, 't0': 206.99999999999994}, {'t': 206.99999999999994, 't0': 206.99999999999994}, {'t': 206.99999999999994, 't0': 206.99999999999994}, {'t': 209.52109374999995, 't0': 209.52109374999995}]\n",
      "Was playing note 24 time 0.779861111111\n"
     ]
    }
   ],
   "source": [
    "distorter = TempoDistorter(sigma=0, min=0.5, max=2.)\n",
    "distorter.randomize()\n",
    "print distorter\n",
    "print 'time warp', dist_pattern.attributes[0][-4:]\n",
    "dist_pattern = distorter.distort(simple)\n",
    "midi.write_midifile('generated/tempo.mid', dist_pattern)\n",
    "dist_pattern.play(bpm=180)"
   ]
  },
  {
   "cell_type": "code",
   "execution_count": 13,
   "metadata": {
    "collapsed": false
   },
   "outputs": [
    {
     "name": "stdout",
     "output_type": "stream",
     "text": [
      "TimeNoiseDistorter(sigma=0.01)\n",
      "time warp [{'t': 193.73072916666104, 't0': 206.99999999999994}, {'t': 193.73151041666102, 't0': 206.99999999999994}, {'t': 193.732291666661, 't0': 206.99999999999994}, {'t': 193.83151041666102, 't0': 209.52109374999995}]\n",
      "Was playing note 5 time 2.66319444444\n"
     ]
    }
   ],
   "source": [
    "distorter = TimeNoiseDistorter()\n",
    "distorter.randomize()\n",
    "print distorter\n",
    "print 'time warp', dist_pattern.attributes[0][-4:]\n",
    "dist_pattern = distorter.distort(simple)\n",
    "midi.write_midifile('generated/time.mid', dist_pattern)\n",
    "dist_pattern.play(bpm=180)"
   ]
  },
  {
   "cell_type": "markdown",
   "metadata": {
    "collapsed": false
   },
   "source": [
    "Individual Note Times to Global Alignment\n",
    "-------"
   ]
  },
  {
   "cell_type": "code",
   "execution_count": null,
   "metadata": {
    "collapsed": false
   },
   "outputs": [],
   "source": [
    "stride = 1.\n",
    "align = align_frame_to_frame(dist_pattern, stride)\n",
    "align"
   ]
  },
  {
   "cell_type": "code",
   "execution_count": null,
   "metadata": {
    "collapsed": false
   },
   "outputs": [],
   "source": [
    "write_align('generated/align.txt', align, stride)\n",
    "align2, stride2 = read_align('generated/align.txt')\n",
    "print align2 == align\n",
    "print int(stride2) == int(stride), stride2, stride"
   ]
  },
  {
   "cell_type": "code",
   "execution_count": null,
   "metadata": {
    "collapsed": true
   },
   "outputs": [],
   "source": []
  },
  {
   "cell_type": "code",
   "execution_count": null,
   "metadata": {
    "collapsed": false
   },
   "outputs": [],
   "source": [
    "dist_pattern = random_distort(simple)\n",
    "align = align_frame_to_frame(dist_pattern, stride=1.)\n",
    "print align\n",
    "dist_pattern.play()"
   ]
  },
  {
   "cell_type": "markdown",
   "metadata": {},
   "source": [
    "Actual Generation\n",
    "----"
   ]
  },
  {
   "cell_type": "code",
   "execution_count": null,
   "metadata": {
    "collapsed": false
   },
   "outputs": [],
   "source": [
    "num_samples = 10\n",
    "stride = 0.1\n",
    "for i in xrange(num_samples):\n",
    "    base_name = 'generated/sample-{}'.format(i)\n",
    "    align_name = '{}.txt'.format(base_name)\n",
    "    midi_name = '{}.mid'.format(base_name)\n",
    "    wav_name = '{}.wav'.format(base_name)\n",
    "    distorted = random_distort(base_name)\n",
    "    align = align_frame_to_frame(distorted, stride)\n",
    "    write_align(align_name, align, stride)\n",
    "    midi.write_midifile(midi_name, distorted)\n",
    "    # Convert to wav using timidity\n",
    "    print wav_name\n",
    "    subprocess.check_call(['timidity', '-Ow', midi_name, '-o', wav_name])\n",
    "    print 'Done generating {}'.format(base_name)"
   ]
  },
  {
   "cell_type": "code",
   "execution_count": null,
   "metadata": {
    "collapsed": true
   },
   "outputs": [],
   "source": []
  }
 ],
 "metadata": {
  "kernelspec": {
   "display_name": "Python 2",
   "language": "python",
   "name": "python2"
  },
  "language_info": {
   "codemirror_mode": {
    "name": "ipython",
    "version": 2
   },
   "file_extension": ".py",
   "mimetype": "text/x-python",
   "name": "python",
   "nbconvert_exporter": "python",
   "pygments_lexer": "ipython2",
   "version": "2.7.6"
  }
 },
 "nbformat": 4,
 "nbformat_minor": 0
}
