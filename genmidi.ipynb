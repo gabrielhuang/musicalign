{
 "cells": [
  {
   "cell_type": "code",
   "execution_count": 1,
   "metadata": {
    "collapsed": true
   },
   "outputs": [],
   "source": [
    "midifile = 'data/chopin-fantaisie.mid'"
   ]
  },
  {
   "cell_type": "code",
   "execution_count": 2,
   "metadata": {
    "collapsed": false
   },
   "outputs": [
    {
     "name": "stdout",
     "output_type": "stream",
     "text": [
      "device 0 ('ALSA', 'Midi Through Port-0', 0, 1, 0)\n",
      "device 1 ('ALSA', 'Midi Through Port-0', 1, 0, 0)\n",
      "device 2 ('ALSA', 'TiMidity port 0', 0, 1, 0)\n",
      "device 3 ('ALSA', 'TiMidity port 1', 0, 1, 0)\n",
      "device 4 ('ALSA', 'TiMidity port 2', 0, 1, 0)\n",
      "device 5 ('ALSA', 'TiMidity port 3', 0, 1, 0)\n"
     ]
    }
   ],
   "source": [
    "import time\n",
    "import copy\n",
    "import subprocess\n",
    "from abc import abstractmethod\n",
    "\n",
    "from midipattern import MidiPattern\n",
    "from distorter import *\n",
    "from align import align_frame_to_frame, read_align, write_align\n",
    "\n",
    "# Midi file parser\n",
    "import midi"
   ]
  },
  {
   "cell_type": "code",
   "execution_count": 3,
   "metadata": {
    "collapsed": true
   },
   "outputs": [],
   "source": [
    "MidiPattern.MIDI_DEVICE = 2"
   ]
  },
  {
   "cell_type": "markdown",
   "metadata": {},
   "source": [
    "Init Pygame and Audio\n",
    "--------"
   ]
  },
  {
   "cell_type": "markdown",
   "metadata": {},
   "source": [
    "Midi Pattern\n",
    "--------"
   ]
  },
  {
   "cell_type": "code",
   "execution_count": 8,
   "metadata": {
    "collapsed": false
   },
   "outputs": [
    {
     "name": "stdout",
     "output_type": "stream",
     "text": [
      "\n"
     ]
    }
   ],
   "source": [
    "pattern = MidiPattern(midi.read_midifile(midifile))\n",
    "simple = pattern.simplified(bpm=160)\n",
    "simple.stamp_time('t0')\n",
    "midi.write_midifile(\"generated/simple.mid\", simple)"
   ]
  },
  {
   "cell_type": "code",
   "execution_count": null,
   "metadata": {
    "collapsed": false
   },
   "outputs": [],
   "source": [
    "print simple.attributes[0][-40:]"
   ]
  },
  {
   "cell_type": "code",
   "execution_count": null,
   "metadata": {
    "collapsed": false
   },
   "outputs": [],
   "source": [
    "pattern[0]\n",
    "pattern.play(180)"
   ]
  },
  {
   "cell_type": "code",
   "execution_count": null,
   "metadata": {
    "collapsed": false
   },
   "outputs": [],
   "source": [
    "simple.play()"
   ]
  },
  {
   "cell_type": "markdown",
   "metadata": {},
   "source": [
    "Distorter\n",
    "--------"
   ]
  },
  {
   "cell_type": "code",
   "execution_count": null,
   "metadata": {
    "collapsed": false
   },
   "outputs": [],
   "source": [
    "distorter = VelocityNoiseDistorter(sigma=20.)\n",
    "distorter.randomize()\n",
    "print distorter\n",
    "dist_pattern = distorter.distort(simple)\n",
    "midi.write_midifile('generated/velocity-noise.mid', dist_pattern)\n",
    "dist_pattern.play(bpm=180)"
   ]
  },
  {
   "cell_type": "code",
   "execution_count": null,
   "metadata": {
    "collapsed": false
   },
   "outputs": [],
   "source": [
    "print dist_pattern.attributes[0][-4:]"
   ]
  },
  {
   "cell_type": "code",
   "execution_count": null,
   "metadata": {
    "collapsed": false
   },
   "outputs": [],
   "source": [
    "distorter = VelocityWalkDistorter(sigma=0.1)\n",
    "distorter.randomize()\n",
    "print distorter\n",
    "dist_pattern = distorter.distort(simple)\n",
    "midi.write_midifile('generated/velocity-walk.mid', dist_pattern)\n",
    "dist_pattern.play(bpm=180)"
   ]
  },
  {
   "cell_type": "code",
   "execution_count": null,
   "metadata": {
    "collapsed": false
   },
   "outputs": [],
   "source": [
    "distorter = ProgramDistorter()\n",
    "distorter.randomize()\n",
    "# for some reason GM 1- 3 makes no sound in pygame?\n",
    "print distorter\n",
    "dist_pattern = distorter.distort(simple)\n",
    "midi.write_midifile('generated/program.mid', dist_pattern)\n",
    "dist_pattern.play(bpm=180)"
   ]
  },
  {
   "cell_type": "code",
   "execution_count": null,
   "metadata": {
    "collapsed": false
   },
   "outputs": [],
   "source": [
    "distorter = TempoDistorter(sigma=0, min=0.5, max=2.)\n",
    "distorter.randomize()\n",
    "print distorter\n",
    "dist_pattern = distorter.distort(simple)\n",
    "print 'time warp', dist_pattern.attributes[0][-4:]\n",
    "midi.write_midifile('generated/tempo.mid', dist_pattern)\n",
    "dist_pattern.play(bpm=180)"
   ]
  },
  {
   "cell_type": "code",
   "execution_count": 6,
   "metadata": {
    "collapsed": false
   },
   "outputs": [
    {
     "name": "stdout",
     "output_type": "stream",
     "text": [
      "TimeNoiseDistorter(sigma=0.01)\n",
      "time warp"
     ]
    },
    {
     "ename": "NameError",
     "evalue": "name 'dist_pattern' is not defined",
     "output_type": "error",
     "traceback": [
      "\u001b[1;31m---------------------------------------------------------------------------\u001b[0m",
      "\u001b[1;31mNameError\u001b[0m                                 Traceback (most recent call last)",
      "\u001b[1;32m<ipython-input-6-32c8f1eb72c1>\u001b[0m in \u001b[0;36m<module>\u001b[1;34m()\u001b[0m\n\u001b[0;32m      2\u001b[0m \u001b[0mdistorter\u001b[0m\u001b[1;33m.\u001b[0m\u001b[0mrandomize\u001b[0m\u001b[1;33m(\u001b[0m\u001b[1;33m)\u001b[0m\u001b[1;33m\u001b[0m\u001b[0m\n\u001b[0;32m      3\u001b[0m \u001b[1;32mprint\u001b[0m \u001b[0mdistorter\u001b[0m\u001b[1;33m\u001b[0m\u001b[0m\n\u001b[1;32m----> 4\u001b[1;33m \u001b[1;32mprint\u001b[0m \u001b[1;34m'time warp'\u001b[0m\u001b[1;33m,\u001b[0m \u001b[0mdist_pattern\u001b[0m\u001b[1;33m.\u001b[0m\u001b[0mattributes\u001b[0m\u001b[1;33m[\u001b[0m\u001b[1;36m0\u001b[0m\u001b[1;33m]\u001b[0m\u001b[1;33m[\u001b[0m\u001b[1;33m-\u001b[0m\u001b[1;36m4\u001b[0m\u001b[1;33m:\u001b[0m\u001b[1;33m]\u001b[0m\u001b[1;33m\u001b[0m\u001b[0m\n\u001b[0m\u001b[0;32m      5\u001b[0m \u001b[0mdist_pattern\u001b[0m \u001b[1;33m=\u001b[0m \u001b[0mdistorter\u001b[0m\u001b[1;33m.\u001b[0m\u001b[0mdistort\u001b[0m\u001b[1;33m(\u001b[0m\u001b[0msimple\u001b[0m\u001b[1;33m)\u001b[0m\u001b[1;33m\u001b[0m\u001b[0m\n\u001b[0;32m      6\u001b[0m \u001b[0mmidi\u001b[0m\u001b[1;33m.\u001b[0m\u001b[0mwrite_midifile\u001b[0m\u001b[1;33m(\u001b[0m\u001b[1;34m'generated/time.mid'\u001b[0m\u001b[1;33m,\u001b[0m \u001b[0mdist_pattern\u001b[0m\u001b[1;33m)\u001b[0m\u001b[1;33m\u001b[0m\u001b[0m\n",
      "\u001b[1;31mNameError\u001b[0m: name 'dist_pattern' is not defined"
     ]
    }
   ],
   "source": [
    "distorter = TimeNoiseDistorter()\n",
    "distorter.randomize()\n",
    "print distorter\n",
    "dist_pattern = distorter.distort(simple)\n",
    "print 'time warp', dist_pattern.attributes[0][-4:]\n",
    "midi.write_midifile('generated/time.mid', dist_pattern)\n",
    "dist_pattern.play(bpm=180)"
   ]
  },
  {
   "cell_type": "markdown",
   "metadata": {
    "collapsed": false
   },
   "source": [
    "Individual Note Times to Global Alignment\n",
    "-------"
   ]
  },
  {
   "cell_type": "code",
   "execution_count": 5,
   "metadata": {
    "collapsed": false
   },
   "outputs": [
    {
     "ename": "NameError",
     "evalue": "name 'dist_pattern' is not defined",
     "output_type": "error",
     "traceback": [
      "\u001b[1;31m---------------------------------------------------------------------------\u001b[0m",
      "\u001b[1;31mNameError\u001b[0m                                 Traceback (most recent call last)",
      "\u001b[1;32m<ipython-input-5-7771912f04dc>\u001b[0m in \u001b[0;36m<module>\u001b[1;34m()\u001b[0m\n\u001b[0;32m      1\u001b[0m \u001b[0mstride\u001b[0m \u001b[1;33m=\u001b[0m \u001b[1;36m1.\u001b[0m\u001b[1;33m\u001b[0m\u001b[0m\n\u001b[1;32m----> 2\u001b[1;33m \u001b[0malign\u001b[0m \u001b[1;33m=\u001b[0m \u001b[0malign_frame_to_frame\u001b[0m\u001b[1;33m(\u001b[0m\u001b[0mdist_pattern\u001b[0m\u001b[1;33m,\u001b[0m \u001b[0mstride\u001b[0m\u001b[1;33m)\u001b[0m\u001b[1;33m\u001b[0m\u001b[0m\n\u001b[0m\u001b[0;32m      3\u001b[0m \u001b[0malign\u001b[0m\u001b[1;33m\u001b[0m\u001b[0m\n",
      "\u001b[1;31mNameError\u001b[0m: name 'dist_pattern' is not defined"
     ]
    }
   ],
   "source": [
    "stride = 1.\n",
    "align = align_frame_to_frame(dist_pattern, stride)\n",
    "align"
   ]
  },
  {
   "cell_type": "code",
   "execution_count": null,
   "metadata": {
    "collapsed": false
   },
   "outputs": [],
   "source": [
    "write_align('generated/align.txt', align, stride)\n",
    "align2, stride2 = read_align('generated/align.txt')\n",
    "print align2 == align\n",
    "print int(stride2) == int(stride), stride2, stride"
   ]
  },
  {
   "cell_type": "markdown",
   "metadata": {},
   "source": [
    "Actual Generation\n",
    "----"
   ]
  },
  {
   "cell_type": "code",
   "execution_count": 9,
   "metadata": {
    "collapsed": false
   },
   "outputs": [
    {
     "ename": "NameError",
     "evalue": "global name 'simple' is not defined",
     "output_type": "error",
     "traceback": [
      "\u001b[1;31m---------------------------------------------------------------------------\u001b[0m",
      "\u001b[1;31mNameError\u001b[0m                                 Traceback (most recent call last)",
      "\u001b[1;32m<ipython-input-9-c15cbd6205dd>\u001b[0m in \u001b[0;36m<module>\u001b[1;34m()\u001b[0m\n\u001b[1;32m----> 1\u001b[1;33m \u001b[0mdist_pattern\u001b[0m \u001b[1;33m=\u001b[0m \u001b[0mrandom_distort\u001b[0m\u001b[1;33m(\u001b[0m\u001b[0msimple\u001b[0m\u001b[1;33m)\u001b[0m\u001b[1;33m\u001b[0m\u001b[0m\n\u001b[0m\u001b[0;32m      2\u001b[0m \u001b[0malign\u001b[0m \u001b[1;33m=\u001b[0m \u001b[0malign_frame_to_frame\u001b[0m\u001b[1;33m(\u001b[0m\u001b[0mdist_pattern\u001b[0m\u001b[1;33m,\u001b[0m \u001b[0mstride\u001b[0m\u001b[1;33m=\u001b[0m\u001b[1;36m1.\u001b[0m\u001b[1;33m)\u001b[0m\u001b[1;33m\u001b[0m\u001b[0m\n\u001b[0;32m      3\u001b[0m \u001b[1;32mprint\u001b[0m \u001b[0malign\u001b[0m\u001b[1;33m\u001b[0m\u001b[0m\n\u001b[0;32m      4\u001b[0m \u001b[0mdist_pattern\u001b[0m\u001b[1;33m.\u001b[0m\u001b[0mplay\u001b[0m\u001b[1;33m(\u001b[0m\u001b[1;33m)\u001b[0m\u001b[1;33m\u001b[0m\u001b[0m\n",
      "\u001b[1;32m/home/h6x/Dropbox/gabi/dev/musicalign/distorter.pyc\u001b[0m in \u001b[0;36mrandom_distort\u001b[1;34m(pattern, distorters)\u001b[0m\n\u001b[0;32m    393\u001b[0m         \u001b[1;32mfor\u001b[0m \u001b[0mdistorter\u001b[0m \u001b[1;32min\u001b[0m \u001b[0mdistorters\u001b[0m\u001b[1;33m:\u001b[0m\u001b[1;33m\u001b[0m\u001b[0m\n\u001b[0;32m    394\u001b[0m             \u001b[0mdistorter\u001b[0m\u001b[1;33m.\u001b[0m\u001b[0mrandomize\u001b[0m\u001b[1;33m(\u001b[0m\u001b[1;33m)\u001b[0m\u001b[1;33m\u001b[0m\u001b[0m\n\u001b[1;32m--> 395\u001b[1;33m     \u001b[0mcurrent\u001b[0m \u001b[1;33m=\u001b[0m \u001b[0msimple\u001b[0m\u001b[1;33m\u001b[0m\u001b[0m\n\u001b[0m\u001b[0;32m    396\u001b[0m     \u001b[1;32mfor\u001b[0m \u001b[0mi\u001b[0m\u001b[1;33m,\u001b[0m \u001b[0mdistorter\u001b[0m \u001b[1;32min\u001b[0m \u001b[0menumerate\u001b[0m\u001b[1;33m(\u001b[0m\u001b[0mdistorters\u001b[0m\u001b[1;33m)\u001b[0m\u001b[1;33m:\u001b[0m\u001b[1;33m\u001b[0m\u001b[0m\n\u001b[0;32m    397\u001b[0m         \u001b[0mkeep_stamps\u001b[0m \u001b[1;33m=\u001b[0m \u001b[0mi\u001b[0m \u001b[1;33m>\u001b[0m \u001b[1;36m0\u001b[0m\u001b[1;33m\u001b[0m\u001b[0m\n",
      "\u001b[1;31mNameError\u001b[0m: global name 'simple' is not defined"
     ]
    }
   ],
   "source": [
    "dist_pattern = random_distort(simple)\n",
    "align = align_frame_to_frame(dist_pattern, stride=1.)\n",
    "print align\n",
    "dist_pattern.play()"
   ]
  },
  {
   "cell_type": "code",
   "execution_count": null,
   "metadata": {
    "collapsed": false
   },
   "outputs": [],
   "source": [
    "num_samples = 10\n",
    "stride = 0.1\n",
    "for i in xrange(num_samples):\n",
    "    base_name = 'generated/sample-{}'.format(i)\n",
    "    align_name = '{}.txt'.format(base_name)\n",
    "    midi_name = '{}.mid'.format(base_name)\n",
    "    wav_name = '{}.wav'.format(base_name)\n",
    "    distorted = random_distort(base_name)\n",
    "    align = align_frame_to_frame(distorted, stride)\n",
    "    write_align(align_name, align, stride)\n",
    "    midi.write_midifile(midi_name, distorted)\n",
    "    # Convert to wav using timidity\n",
    "    print wav_name\n",
    "    subprocess.check_call(['timidity', '-Ow', midi_name, '-o', wav_name])\n",
    "    print 'Done generating {}'.format(base_name)"
   ]
  }
 ],
 "metadata": {
  "kernelspec": {
   "display_name": "Python 2",
   "language": "python",
   "name": "python2"
  },
  "language_info": {
   "codemirror_mode": {
    "name": "ipython",
    "version": 2
   },
   "file_extension": ".py",
   "mimetype": "text/x-python",
   "name": "python",
   "nbconvert_exporter": "python",
   "pygments_lexer": "ipython2",
   "version": "2.7.6"
  }
 },
 "nbformat": 4,
 "nbformat_minor": 0
}
