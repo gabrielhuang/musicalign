{
 "cells": [
  {
   "cell_type": "code",
   "execution_count": 1,
   "metadata": {
    "collapsed": true
   },
   "outputs": [],
   "source": [
    "midifile = 'data/chopin-fantaisie.mid'"
   ]
  },
  {
   "cell_type": "code",
   "execution_count": 2,
   "metadata": {
    "collapsed": false
   },
   "outputs": [
    {
     "name": "stdout",
     "output_type": "stream",
     "text": [
      "device 0 ('ALSA', 'Midi Through Port-0', 0, 1, 0)\n",
      "device 1 ('ALSA', 'Midi Through Port-0', 1, 0, 0)\n",
      "device 2 ('ALSA', 'TiMidity port 0', 0, 1, 0)\n",
      "device 3 ('ALSA', 'TiMidity port 1', 0, 1, 0)\n",
      "device 4 ('ALSA', 'TiMidity port 2', 0, 1, 0)\n",
      "device 5 ('ALSA', 'TiMidity port 3', 0, 1, 0)\n"
     ]
    }
   ],
   "source": [
    "import time\n",
    "import copy\n",
    "import subprocess\n",
    "from abc import abstractmethod\n",
    "\n",
    "from midipattern import MidiPattern\n",
    "from distorter import *\n",
    "\n",
    "# Midi file parser\n",
    "import midi"
   ]
  },
  {
   "cell_type": "code",
   "execution_count": 3,
   "metadata": {
    "collapsed": true
   },
   "outputs": [],
   "source": [
    "MidiPattern.MIDI_DEVICE = 2"
   ]
  },
  {
   "cell_type": "markdown",
   "metadata": {},
   "source": [
    "Init Pygame and Audio\n",
    "--------"
   ]
  },
  {
   "cell_type": "markdown",
   "metadata": {},
   "source": [
    "Midi Pattern\n",
    "--------"
   ]
  },
  {
   "cell_type": "code",
   "execution_count": 4,
   "metadata": {
    "collapsed": false
   },
   "outputs": [],
   "source": [
    "pattern = MidiPattern(midi.read_midifile(midifile))\n",
    "simple = pattern.simplified(bpm=160)\n",
    "simple.stamp_time('t0')\n",
    "midi.write_midifile(\"generated/simple.mid\", simple)"
   ]
  },
  {
   "cell_type": "code",
   "execution_count": 5,
   "metadata": {
    "collapsed": false
   },
   "outputs": [
    {
     "name": "stdout",
     "output_type": "stream",
     "text": [
      "[{'t0': 203.24999999999994}, {'t0': 203.25468749999993}, {'t0': 203.34843749999993}, {'t0': 203.34843749999993}, {'t0': 203.43749999999994}, {'t0': 203.44218749999993}, {'t0': 203.53124999999994}, {'t0': 203.53124999999994}, {'t0': 203.62499999999994}, {'t0': 203.62499999999994}, {'t0': 203.71874999999994}, {'t0': 203.71874999999994}, {'t0': 203.81249999999994}, {'t0': 203.81249999999994}, {'t0': 203.90624999999994}, {'t0': 203.90624999999994}, {'t0': 203.99999999999994}, {'t0': 203.99999999999994}, {'t0': 203.99999999999994}, {'t0': 203.99999999999994}, {'t0': 204.04687499999994}, {'t0': 204.09374999999994}, {'t0': 204.14062499999994}, {'t0': 204.18749999999994}, {'t0': 204.28124999999994}, {'t0': 205.49999999999994}, {'t0': 205.49999999999994}, {'t0': 205.49999999999994}, {'t0': 205.49999999999994}, {'t0': 205.49999999999994}, {'t0': 205.49999999999994}, {'t0': 205.54687499999994}, {'t0': 205.59374999999994}, {'t0': 205.64062499999994}, {'t0': 206.99999999999994}, {'t0': 206.99999999999994}, {'t0': 206.99999999999994}, {'t0': 206.99999999999994}, {'t0': 206.99999999999994}, {'t0': 209.52109374999995}]\n"
     ]
    }
   ],
   "source": [
    "print simple.attributes[0][-40:]"
   ]
  },
  {
   "cell_type": "code",
   "execution_count": 6,
   "metadata": {
    "collapsed": false
   },
   "outputs": [
    {
     "name": "stdout",
     "output_type": "stream",
     "text": [
      "Was playing note 5 time 2.66666666667\n"
     ]
    }
   ],
   "source": [
    "pattern[0]\n",
    "pattern.play(180)"
   ]
  },
  {
   "cell_type": "code",
   "execution_count": 7,
   "metadata": {
    "collapsed": false
   },
   "outputs": [
    {
     "name": "stdout",
     "output_type": "stream",
     "text": [
      "Was playing note 5 time 3.0\n"
     ]
    }
   ],
   "source": [
    "simple.play()"
   ]
  },
  {
   "cell_type": "markdown",
   "metadata": {},
   "source": [
    "Distorter\n",
    "--------"
   ]
  },
  {
   "cell_type": "code",
   "execution_count": 8,
   "metadata": {
    "collapsed": false
   },
   "outputs": [
    {
     "name": "stdout",
     "output_type": "stream",
     "text": [
      "VelocityNoiseDistorter(sigma=8.90)\n"
     ]
    },
    {
     "ename": "NameError",
     "evalue": "global name 'midi' is not defined",
     "output_type": "error",
     "traceback": [
      "\u001b[1;31m---------------------------------------------------------------------------\u001b[0m",
      "\u001b[1;31mNameError\u001b[0m                                 Traceback (most recent call last)",
      "\u001b[1;32m<ipython-input-8-8d3594ab691a>\u001b[0m in \u001b[0;36m<module>\u001b[1;34m()\u001b[0m\n\u001b[0;32m      2\u001b[0m \u001b[0mdistorter\u001b[0m\u001b[1;33m.\u001b[0m\u001b[0mrandomize\u001b[0m\u001b[1;33m(\u001b[0m\u001b[1;33m)\u001b[0m\u001b[1;33m\u001b[0m\u001b[0m\n\u001b[0;32m      3\u001b[0m \u001b[1;32mprint\u001b[0m \u001b[0mdistorter\u001b[0m\u001b[1;33m\u001b[0m\u001b[0m\n\u001b[1;32m----> 4\u001b[1;33m \u001b[0mdist_pattern\u001b[0m \u001b[1;33m=\u001b[0m \u001b[0mdistorter\u001b[0m\u001b[1;33m.\u001b[0m\u001b[0mdistort\u001b[0m\u001b[1;33m(\u001b[0m\u001b[0msimple\u001b[0m\u001b[1;33m)\u001b[0m\u001b[1;33m\u001b[0m\u001b[0m\n\u001b[0m\u001b[0;32m      5\u001b[0m \u001b[0mmidi\u001b[0m\u001b[1;33m.\u001b[0m\u001b[0mwrite_midifile\u001b[0m\u001b[1;33m(\u001b[0m\u001b[1;34m'generated/velocity-noise.mid'\u001b[0m\u001b[1;33m,\u001b[0m \u001b[0mdist_pattern\u001b[0m\u001b[1;33m)\u001b[0m\u001b[1;33m\u001b[0m\u001b[0m\n\u001b[0;32m      6\u001b[0m \u001b[0mdist_pattern\u001b[0m\u001b[1;33m.\u001b[0m\u001b[0mplay\u001b[0m\u001b[1;33m(\u001b[0m\u001b[0mbpm\u001b[0m\u001b[1;33m=\u001b[0m\u001b[1;36m180\u001b[0m\u001b[1;33m)\u001b[0m\u001b[1;33m\u001b[0m\u001b[0m\n",
      "\u001b[1;32m/home/h6x/Dropbox/gabi/dev/musicalign/distorter.py\u001b[0m in \u001b[0;36mdistort\u001b[1;34m(self, pattern, keep_stamps)\u001b[0m\n\u001b[0;32m     55\u001b[0m             \u001b[0mnew_pattern\u001b[0m\u001b[1;33m.\u001b[0m\u001b[0minit_attributes\u001b[0m\u001b[1;33m(\u001b[0m\u001b[1;33m)\u001b[0m\u001b[1;33m\u001b[0m\u001b[0m\n\u001b[0;32m     56\u001b[0m             \u001b[0mnew_pattern\u001b[0m\u001b[1;33m.\u001b[0m\u001b[0mstamp_time\u001b[0m\u001b[1;33m(\u001b[0m\u001b[1;34m't0'\u001b[0m\u001b[1;33m)\u001b[0m\u001b[1;33m\u001b[0m\u001b[0m\n\u001b[1;32m---> 57\u001b[1;33m         \u001b[0mnew_pattern\u001b[0m \u001b[1;33m=\u001b[0m \u001b[0mself\u001b[0m\u001b[1;33m.\u001b[0m\u001b[0m_distort\u001b[0m\u001b[1;33m(\u001b[0m\u001b[0mpattern\u001b[0m\u001b[1;33m,\u001b[0m \u001b[0mnew_pattern\u001b[0m\u001b[1;33m)\u001b[0m\u001b[1;33m\u001b[0m\u001b[0m\n\u001b[0m\u001b[0;32m     58\u001b[0m         \u001b[0mnew_pattern\u001b[0m\u001b[1;33m.\u001b[0m\u001b[0msort_all\u001b[0m\u001b[1;33m(\u001b[0m\u001b[1;33m)\u001b[0m\u001b[1;33m\u001b[0m\u001b[0m\n\u001b[0;32m     59\u001b[0m         \u001b[0mnew_pattern\u001b[0m\u001b[1;33m.\u001b[0m\u001b[0mstamp_time\u001b[0m\u001b[1;33m(\u001b[0m\u001b[1;34m't'\u001b[0m\u001b[1;33m)\u001b[0m\u001b[1;33m\u001b[0m\u001b[0m\n",
      "\u001b[1;32m/home/h6x/Dropbox/gabi/dev/musicalign/distorter.py\u001b[0m in \u001b[0;36m_distort\u001b[1;34m(self, pattern, new_pattern)\u001b[0m\n\u001b[0;32m    129\u001b[0m         \u001b[1;32mfor\u001b[0m \u001b[0mtrack\u001b[0m \u001b[1;32min\u001b[0m \u001b[0mnew_pattern\u001b[0m\u001b[1;33m:\u001b[0m\u001b[1;33m\u001b[0m\u001b[0m\n\u001b[0;32m    130\u001b[0m             \u001b[1;32mfor\u001b[0m \u001b[0me\u001b[0m \u001b[1;32min\u001b[0m \u001b[0mtrack\u001b[0m\u001b[1;33m:\u001b[0m\u001b[1;33m\u001b[0m\u001b[0m\n\u001b[1;32m--> 131\u001b[1;33m                 if (isinstance(e, midi.NoteOnEvent) and\n\u001b[0m\u001b[0;32m    132\u001b[0m                         e.get_velocity() > 0):\n\u001b[0;32m    133\u001b[0m                     \u001b[0mtmp_velocity\u001b[0m \u001b[1;33m=\u001b[0m \u001b[0me\u001b[0m\u001b[1;33m.\u001b[0m\u001b[0mget_velocity\u001b[0m\u001b[1;33m(\u001b[0m\u001b[1;33m)\u001b[0m \u001b[1;33m+\u001b[0m \u001b[0mself\u001b[0m\u001b[1;33m.\u001b[0m\u001b[0msigma\u001b[0m\u001b[1;33m*\u001b[0m\u001b[0mnp\u001b[0m\u001b[1;33m.\u001b[0m\u001b[0mrandom\u001b[0m\u001b[1;33m.\u001b[0m\u001b[0mnormal\u001b[0m\u001b[1;33m(\u001b[0m\u001b[1;33m)\u001b[0m\u001b[1;33m\u001b[0m\u001b[0m\n",
      "\u001b[1;31mNameError\u001b[0m: global name 'midi' is not defined"
     ]
    }
   ],
   "source": [
    "distorter = VelocityNoiseDistorter(sigma=20.)\n",
    "distorter.randomize()\n",
    "print distorter\n",
    "dist_pattern = distorter.distort(simple)\n",
    "midi.write_midifile('generated/velocity-noise.mid', dist_pattern)\n",
    "dist_pattern.play(bpm=180)"
   ]
  },
  {
   "cell_type": "code",
   "execution_count": 11,
   "metadata": {
    "collapsed": false
   },
   "outputs": [
    {
     "ename": "NameError",
     "evalue": "name 'dist_pattern' is not defined",
     "output_type": "error",
     "traceback": [
      "\u001b[1;31m---------------------------------------------------------------------------\u001b[0m",
      "\u001b[1;31mNameError\u001b[0m                                 Traceback (most recent call last)",
      "\u001b[1;32m<ipython-input-11-92beb357ea73>\u001b[0m in \u001b[0;36m<module>\u001b[1;34m()\u001b[0m\n\u001b[1;32m----> 1\u001b[1;33m \u001b[1;32mprint\u001b[0m \u001b[0mdist_pattern\u001b[0m\u001b[1;33m.\u001b[0m\u001b[0mattributes\u001b[0m\u001b[1;33m[\u001b[0m\u001b[1;36m0\u001b[0m\u001b[1;33m]\u001b[0m\u001b[1;33m[\u001b[0m\u001b[1;33m-\u001b[0m\u001b[1;36m4\u001b[0m\u001b[1;33m:\u001b[0m\u001b[1;33m]\u001b[0m\u001b[1;33m\u001b[0m\u001b[0m\n\u001b[0m",
      "\u001b[1;31mNameError\u001b[0m: name 'dist_pattern' is not defined"
     ]
    }
   ],
   "source": [
    "print dist_pattern.attributes[0][-4:]"
   ]
  },
  {
   "cell_type": "code",
   "execution_count": null,
   "metadata": {
    "collapsed": false
   },
   "outputs": [],
   "source": [
    "distorter = VelocityWalkDistorter(sigma=0.1)\n",
    "distorter.randomize()\n",
    "print distorter\n",
    "dist_pattern = distorter.distort(simple)\n",
    "midi.write_midifile('generated/velocity-walk.mid', dist_pattern)\n",
    "dist_pattern.play(bpm=180)"
   ]
  },
  {
   "cell_type": "code",
   "execution_count": null,
   "metadata": {
    "collapsed": false
   },
   "outputs": [],
   "source": [
    "distorter = ProgramDistorter()\n",
    "distorter.randomize()\n",
    "# for some reason GM 1- 3 makes no sound in pygame?\n",
    "print distorter\n",
    "dist_pattern = distorter.distort(simple)\n",
    "midi.write_midifile('generated/program.mid', dist_pattern)\n",
    "dist_pattern.play(bpm=180)"
   ]
  },
  {
   "cell_type": "code",
   "execution_count": null,
   "metadata": {
    "collapsed": false
   },
   "outputs": [],
   "source": [
    "distorter = TempoDistorter(sigma=0, min=0.5, max=2.)\n",
    "distorter.randomize()\n",
    "print distorter\n",
    "print 'time warp', dist_pattern.attributes[0][-4:]\n",
    "dist_pattern = distorter.distort(simple)\n",
    "midi.write_midifile('generated/tempo.mid', dist_pattern)\n",
    "dist_pattern.play(bpm=180)"
   ]
  },
  {
   "cell_type": "code",
   "execution_count": null,
   "metadata": {
    "collapsed": false
   },
   "outputs": [],
   "source": [
    "distorter = TimeNoiseDistorter()\n",
    "distorter.randomize()\n",
    "print distorter\n",
    "print 'time warp', dist_pattern.attributes[0][-4:]\n",
    "dist_pattern = distorter.distort(simple)\n",
    "midi.write_midifile('generated/time.mid', dist_pattern)\n",
    "dist_pattern.play(bpm=180)"
   ]
  },
  {
   "cell_type": "markdown",
   "metadata": {
    "collapsed": false
   },
   "source": [
    "Individual Note Times to Global Alignment\n",
    "-------"
   ]
  },
  {
   "cell_type": "code",
   "execution_count": null,
   "metadata": {
    "collapsed": true
   },
   "outputs": [],
   "source": [
    "def align_frame_to_frame(pattern, stride):\n",
    "    '''\n",
    "    Parameters\n",
    "    ----------\n",
    "    pattern : MidiPattern\n",
    "        pattern with alignment attributes\n",
    "        't0' for reference time\n",
    "        't' for candidate time (times to align)\n",
    "    stride : float\n",
    "        stride of window in seconds\n",
    "        \n",
    "    Returns\n",
    "    -------\n",
    "    align : list of int\n",
    "        alignment of each candidate window to index of target window\n",
    "        \n",
    "    TODO\n",
    "    ----\n",
    "    Smooth using kernel instead of binning candidate + averaging target\n",
    "    reference by chord/duration of nth note\n",
    "    interpolate empty reference measures    \n",
    "        \n",
    "    Currently, move a non-overlapping window over the pattern.\n",
    "    Candidate window events have their time averaged.\n",
    "    It is then assigned to the closest window.\n",
    "    '''\n",
    "    # Collect info for each candidate window\n",
    "    windows = {}\n",
    "    for track_attributes in pattern.attributes:\n",
    "        for e_attr in track_attributes:\n",
    "            ref_idx = int(e_attr['t'] / stride)\n",
    "            windows.setdefault(ref_idx, [])\n",
    "            windows[ref_idx].append(e_attr['t0'])\n",
    "    # Average\n",
    "    avg = {}\n",
    "    for cand_idx, w in windows.items():\n",
    "        avg[cand_idx] = int(sum(t for t in w) / float(len(w)))\n",
    "    # Fill holes\n",
    "    align = []\n",
    "    last = 0.\n",
    "    for cand_idx, ref_idx in sorted(avg.items()):\n",
    "        # fill holes with linear interpolation\n",
    "        repl = np.linspace(float(last), float(ref_idx), num=(cand_idx - len(align) + 2))[1:]\n",
    "        last = ref_idx\n",
    "        #repl = [ref_idx] * (cand_idx - len(align) + 1)\n",
    "        align += list(repl.astype(int))\n",
    "    return align\n",
    "        \n",
    "    "
   ]
  },
  {
   "cell_type": "code",
   "execution_count": null,
   "metadata": {
    "collapsed": false
   },
   "outputs": [],
   "source": [
    "stride = 1.\n",
    "align = align_frame_to_frame(dist_pattern, stride)\n",
    "align"
   ]
  },
  {
   "cell_type": "markdown",
   "metadata": {},
   "source": [
    "Alignment IO\n",
    "----"
   ]
  },
  {
   "cell_type": "code",
   "execution_count": null,
   "metadata": {
    "collapsed": true
   },
   "outputs": [],
   "source": [
    "def write_align(fname, align, stride):\n",
    "    '''\n",
    "    Write alignment to file\n",
    "    '''\n",
    "    with open(fname, 'w') as f:\n",
    "        f.write('{}\\n'.format(stride))\n",
    "        f.write('\\n'.join(map(str, align)))\n",
    "        \n",
    "def read_align(fname):\n",
    "    '''\n",
    "    Read alignment from file\\\n",
    "    \n",
    "    Returns\n",
    "    -------\n",
    "    align : list of float\n",
    "        alignments in seconds for each candidate window\n",
    "    stride : float\n",
    "        duration of window\n",
    "    '''\n",
    "    with open(fname, 'r') as f:\n",
    "        numbers = [float(l.strip()) for l in f]\n",
    "        return numbers[1:], numbers[0]"
   ]
  },
  {
   "cell_type": "code",
   "execution_count": null,
   "metadata": {
    "collapsed": false
   },
   "outputs": [],
   "source": [
    "write_align('generated/align.txt', align, stride)\n",
    "align2, stride2 = read_align('generated/align.txt')\n",
    "print align2 == align\n",
    "print int(stride2) == int(stride), stride2, stride"
   ]
  },
  {
   "cell_type": "code",
   "execution_count": null,
   "metadata": {
    "collapsed": true
   },
   "outputs": [],
   "source": [
    "def random_distort(pattern, distorters=None):\n",
    "    '''\n",
    "    Distort a simple pattern by applying a chain\n",
    "    for distortions on it.\n",
    "    \n",
    "    Parameters\n",
    "    ----------\n",
    "    pattern : MidiPattern\n",
    "        pattern to distort\n",
    "    distorters : list of Distorter\n",
    "        distorters to apply\n",
    "    '''\n",
    "    if not distorters:\n",
    "        distorters = [TempoDistorter(), TimeNoiseDistorter()]\n",
    "        for distorter in distorters:\n",
    "            distorter.randomize()\n",
    "    current = simple\n",
    "    for i, distorter in enumerate(distorters):\n",
    "        keep_stamps = i > 0\n",
    "        current = distorter.distort(current, keep_stamps)\n",
    "    return current\n",
    "\n"
   ]
  },
  {
   "cell_type": "code",
   "execution_count": null,
   "metadata": {
    "collapsed": false
   },
   "outputs": [],
   "source": [
    "dist_pattern = random_distort(simple)\n",
    "align = align_frame_to_frame(dist_pattern, stride=1.)\n",
    "print align\n",
    "dist_pattern.play()"
   ]
  },
  {
   "cell_type": "markdown",
   "metadata": {},
   "source": [
    "Actual Generation\n",
    "----"
   ]
  },
  {
   "cell_type": "code",
   "execution_count": null,
   "metadata": {
    "collapsed": false
   },
   "outputs": [],
   "source": [
    "num_samples = 10\n",
    "stride = 0.1\n",
    "for i in xrange(num_samples):\n",
    "    base_name = 'generated/sample-{}'.format(i)\n",
    "    align_name = '{}.txt'.format(base_name)\n",
    "    midi_name = '{}.mid'.format(base_name)\n",
    "    wav_name = '{}.wav'.format(base_name)\n",
    "    distorted = random_distort(base_name)\n",
    "    align = align_frame_to_frame(distorted, stride)\n",
    "    write_align(align_name, align, stride)\n",
    "    midi.write_midifile(midi_name, distorted)\n",
    "    # Convert to wav using timidity\n",
    "    print wav_name\n",
    "    subprocess.check_call(['timidity', '-Ow', midi_name, '-o', wav_name])\n",
    "    print 'Done generating {}'.format(base_name)"
   ]
  },
  {
   "cell_type": "code",
   "execution_count": null,
   "metadata": {
    "collapsed": true
   },
   "outputs": [],
   "source": []
  }
 ],
 "metadata": {
  "kernelspec": {
   "display_name": "Python 2",
   "language": "python",
   "name": "python2"
  },
  "language_info": {
   "codemirror_mode": {
    "name": "ipython",
    "version": 2
   },
   "file_extension": ".py",
   "mimetype": "text/x-python",
   "name": "python",
   "nbconvert_exporter": "python",
   "pygments_lexer": "ipython2",
   "version": "2.7.6"
  }
 },
 "nbformat": 4,
 "nbformat_minor": 0
}
