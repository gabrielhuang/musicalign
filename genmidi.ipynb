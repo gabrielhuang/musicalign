{
 "cells": [
  {
   "cell_type": "code",
   "execution_count": 1,
   "metadata": {
    "collapsed": true
   },
   "outputs": [],
   "source": [
    "midifile = 'data/chopin-fantaisie.mid'"
   ]
  },
  {
   "cell_type": "code",
   "execution_count": 2,
   "metadata": {
    "collapsed": false
   },
   "outputs": [
    {
     "name": "stdout",
     "output_type": "stream",
     "text": [
      "device 0 ('ALSA', 'Midi Through Port-0', 0, 1, 0)\n",
      "device 1 ('ALSA', 'Midi Through Port-0', 1, 0, 0)\n",
      "device 2 ('ALSA', 'TiMidity port 0', 0, 1, 0)\n",
      "device 3 ('ALSA', 'TiMidity port 1', 0, 1, 0)\n",
      "device 4 ('ALSA', 'TiMidity port 2', 0, 1, 0)\n",
      "device 5 ('ALSA', 'TiMidity port 3', 0, 1, 0)\n"
     ]
    }
   ],
   "source": [
    "import time\n",
    "import copy\n",
    "import subprocess\n",
    "import numpy as np\n",
    "from abc import abstractmethod\n",
    "from midipattern import MidiPattern\n",
    "\n",
    "\n",
    "# Midi file parser\n",
    "import midi"
   ]
  },
  {
   "cell_type": "code",
   "execution_count": 3,
   "metadata": {
    "collapsed": true
   },
   "outputs": [],
   "source": [
    "MidiPattern.MIDI_DEVICE = 2"
   ]
  },
  {
   "cell_type": "markdown",
   "metadata": {},
   "source": [
    "Init Pygame and Audio\n",
    "--------"
   ]
  },
  {
   "cell_type": "markdown",
   "metadata": {},
   "source": [
    "Midi Pattern\n",
    "--------"
   ]
  },
  {
   "cell_type": "code",
   "execution_count": 4,
   "metadata": {
    "collapsed": false
   },
   "outputs": [],
   "source": [
    "pattern = MidiPattern(midi.read_midifile(midifile))\n",
    "simple = pattern.simplified(bpm=160)\n",
    "simple.stamp_time('t0')\n",
    "midi.write_midifile(\"generated/simple.mid\", simple)"
   ]
  },
  {
   "cell_type": "code",
   "execution_count": 5,
   "metadata": {
    "collapsed": false
   },
   "outputs": [
    {
     "name": "stdout",
     "output_type": "stream",
     "text": [
      "[{'t0': 203.24999999999994}, {'t0': 203.25468749999993}, {'t0': 203.34843749999993}, {'t0': 203.34843749999993}, {'t0': 203.43749999999994}, {'t0': 203.44218749999993}, {'t0': 203.53124999999994}, {'t0': 203.53124999999994}, {'t0': 203.62499999999994}, {'t0': 203.62499999999994}, {'t0': 203.71874999999994}, {'t0': 203.71874999999994}, {'t0': 203.81249999999994}, {'t0': 203.81249999999994}, {'t0': 203.90624999999994}, {'t0': 203.90624999999994}, {'t0': 203.99999999999994}, {'t0': 203.99999999999994}, {'t0': 203.99999999999994}, {'t0': 203.99999999999994}, {'t0': 204.04687499999994}, {'t0': 204.09374999999994}, {'t0': 204.14062499999994}, {'t0': 204.18749999999994}, {'t0': 204.28124999999994}, {'t0': 205.49999999999994}, {'t0': 205.49999999999994}, {'t0': 205.49999999999994}, {'t0': 205.49999999999994}, {'t0': 205.49999999999994}, {'t0': 205.49999999999994}, {'t0': 205.54687499999994}, {'t0': 205.59374999999994}, {'t0': 205.64062499999994}, {'t0': 206.99999999999994}, {'t0': 206.99999999999994}, {'t0': 206.99999999999994}, {'t0': 206.99999999999994}, {'t0': 206.99999999999994}, {'t0': 209.52109374999995}]\n"
     ]
    }
   ],
   "source": [
    "print simple.attributes[0][-40:]"
   ]
  },
  {
   "cell_type": "code",
   "execution_count": 6,
   "metadata": {
    "collapsed": false
   },
   "outputs": [
    {
     "name": "stdout",
     "output_type": "stream",
     "text": [
      "Was playing note 5 time 2.66666666667\n"
     ]
    }
   ],
   "source": [
    "pattern[0]\n",
    "pattern.play(180)"
   ]
  },
  {
   "cell_type": "code",
   "execution_count": 7,
   "metadata": {
    "collapsed": false
   },
   "outputs": [
    {
     "name": "stdout",
     "output_type": "stream",
     "text": [
      "Was playing note 5 time 3.0\n"
     ]
    }
   ],
   "source": [
    "simple.play()"
   ]
  },
  {
   "cell_type": "markdown",
   "metadata": {},
   "source": [
    "Distorter\n",
    "--------"
   ]
  },
  {
   "cell_type": "code",
   "execution_count": 8,
   "metadata": {
    "collapsed": false
   },
   "outputs": [],
   "source": [
    "'''\n",
    "TODO\n",
    "add/drop notes\n",
    "replace notes\n",
    "\n",
    "WARNING\n",
    "if elements are inserted or deleted,\n",
    "need to rebuild attributes!!\n",
    "'''\n",
    "class Distorter(object):\n",
    "    '''\n",
    "    Distort a *simplified* pattern.\n",
    "    \n",
    "    Ways of distorting a pattern include changing its tempo,\n",
    "    introducing randomness on the timing of individual notes (ticks),\n",
    "    or changing the instruments (channel).\n",
    "    \n",
    "    No need to preserve measures.\n",
    "    '''\n",
    "    def distort(self, pattern, keep_stamps=False):\n",
    "        '''\n",
    "        Distort a pattern.\n",
    "        \n",
    "        Decorates _distort:\n",
    "        - create new_pattern from pattern\n",
    "        - add attributes and timestamps to new_pattern\n",
    "        - call _distort()\n",
    "        - add new timestamps to new_pattern\n",
    "        \n",
    "        \n",
    "        Parameters\n",
    "        ----------\n",
    "        pattern : MidiPattern\n",
    "            *simplified* pattern\n",
    "        keep_stamps : bool\n",
    "            if True, keep original time stamps 't0'\n",
    "            typically, when applying a chaing of distortions,\n",
    "            keep stamps except for the first distortion\n",
    "            \n",
    "        Returns\n",
    "        -------\n",
    "        new_pattern : MidiPattern\n",
    "            new distorted pattern\n",
    "        align : list\n",
    "            alignment of new_pattern to input pattern\n",
    "        '''\n",
    "        new_pattern = MidiPattern(pattern)\n",
    "        if not keep_stamps:\n",
    "            new_pattern.init_attributes()\n",
    "            new_pattern.stamp_time('t0')\n",
    "        new_pattern = self._distort(pattern, new_pattern)\n",
    "        new_pattern.sort_all()\n",
    "        new_pattern.stamp_time('t')\n",
    "        return new_pattern\n",
    "    \n",
    "    @abstractmethod\n",
    "    def _distort(self, pattern, new_pattern):\n",
    "        '''\n",
    "        Actual implementation. Modifies new_pattern in place.\n",
    "        \n",
    "        Parameters\n",
    "        ----------\n",
    "        pattern : MidiPattern\n",
    "            input pattern\n",
    "        new_pattern : MidiPattern\n",
    "            pattern to return\n",
    "        '''\n",
    "        pass\n",
    "    \n",
    "    @abstractmethod\n",
    "    def __repr__(self):\n",
    "        pass\n",
    "    \n",
    "    def randomize(self, params):\n",
    "        '''\n",
    "        Sample parameters of distorter.\n",
    "        \n",
    "        Parameters\n",
    "        ----------\n",
    "        params : dict\n",
    "            hyperparameters defining distribution on parameters\n",
    "        '''\n",
    "        pass\n",
    "    \n",
    "    def __repr__(self):\n",
    "        name = self.__class__.__name__\n",
    "        params = ['{}={}'.format(k,v) for k,v in self.__dict__.items()]\n",
    "        return '<{}({})>\\n'.format(name, ','.join(params))\n",
    "    \n",
    "\n",
    "class VelocityNoiseDistorter(Distorter):\n",
    "    '''\n",
    "    Add gaussian noise on individual velocities\n",
    "    '''\n",
    "    def __init__(self, sigma=10.):\n",
    "        '''\n",
    "        Parameters            \n",
    "        \n",
    "        ----------\n",
    "        sigma : float\n",
    "            standard deviation of gaussian noise\n",
    "        '''\n",
    "        self.sigma = sigma\n",
    "        \n",
    "    def __repr__(self):\n",
    "        return 'VelocityNoiseDistorter(sigma={:.2f})'.format(self.sigma) \n",
    "            \n",
    "    def randomize(self, params=None):\n",
    "        '''\n",
    "        Parameters\n",
    "        ----------\n",
    "        params : dict\n",
    "            min_sigma, max_sigma : float\n",
    "                where self.sigma ~ U(min_sigma, max_sigma)\n",
    "        '''\n",
    "        p = {'min_sigma': 0., 'max_sigma': 20.}\n",
    "        if params:\n",
    "            p.update(params)\n",
    "        self.sigma = np.random.uniform(\n",
    "            p['min_sigma'], p['max_sigma'])\n",
    "        \n",
    "    def _distort(self, pattern, new_pattern):\n",
    "        for track in new_pattern:\n",
    "            for e in track:\n",
    "                if (isinstance(e, midi.NoteOnEvent) and\n",
    "                        e.get_velocity() > 0):\n",
    "                    tmp_velocity = e.get_velocity() + self.sigma*np.random.normal() \n",
    "                    e.set_velocity(np.clip(int(tmp_velocity), 1, 127))\n",
    "        return new_pattern\n",
    "\n",
    "    \n",
    "class VelocityWalkDistorter(Distorter):\n",
    "    '''\n",
    "    Generate bounded random walk,\n",
    "    and multiply velocities by it.\n",
    "    '''\n",
    "    def __init__(self, sigma=10., min=0.5, max=2.):\n",
    "        '''\n",
    "        Parameters\n",
    "        ----------\n",
    "        sigma : float\n",
    "            standard deviation of derivative of random walk\n",
    "            per quarter note\n",
    "        min : float\n",
    "            minimum multiple of original velocity\n",
    "        max : float\n",
    "            maximum multiple of original velocity\n",
    "        '''\n",
    "        self.sigma = sigma\n",
    "        self.min = min\n",
    "        self.max = max\n",
    "        \n",
    "    def __repr__(self):\n",
    "        return 'VelocityWalkDistorter(sigma={:.2f}, min={:.2f}, max={:.2f})'.format(self.sigma, self.min, self.max) \n",
    "    \n",
    "    def randomize(self, params=None):\n",
    "        '''\n",
    "        Parameters\n",
    "        ----------\n",
    "        params : dict\n",
    "            min_sigma, max_sigma : float\n",
    "                where self.sigma ~ U(min_sigma, max_sigma)\n",
    "            min, max : float\n",
    "                where self.min, self.max ~ U(min, max)\n",
    "                and min < max\n",
    "        '''\n",
    "        p = {'min_sigma': 0., 'max_sigma': 20.,\n",
    "             'min': 0.3, 'max': 1.5}\n",
    "        if params:\n",
    "            p.update(params)\n",
    "        self.sigma = np.random.uniform(p['min_sigma'], p['max_sigma'])\n",
    "        a, b = np.random.uniform(p['min'], p['max'], size=2)\n",
    "        self.min = min(a, b)\n",
    "        self.max = max(a, b)\n",
    "        \n",
    "    def _distort(self, pattern, new_pattern):\n",
    "        sigma_per_tick = self.sigma / np.sqrt(pattern.resolution)\n",
    "        multiple = 1.  # original value\n",
    "        for track in new_pattern:\n",
    "            for e in track:\n",
    "                tmp_multiple = (multiple + sigma_per_tick \n",
    "                                * np.random.normal()\n",
    "                                * np.sqrt(float(e.tick)))\n",
    "                multiple = np.clip(tmp_multiple, self.min, self.max)\n",
    "                #print multiple\n",
    "                if (isinstance(e, midi.NoteOnEvent) and\n",
    "                        e.get_velocity() > 0):\n",
    "                    tmp_velocity = e.get_velocity() * multiple\n",
    "                    e.set_velocity(np.clip(int(tmp_velocity), 1, 127))\n",
    "        return new_pattern\n",
    "    \n",
    "    \n",
    "class ProgramDistorter(Distorter):\n",
    "    '''\n",
    "    Change Instrument\n",
    "    '''\n",
    "    def __init__(self, ticks=0):\n",
    "        '''\n",
    "        Parameters\n",
    "        ----------\n",
    "        ticks : int\n",
    "            change instrument every ticks\n",
    "        '''\n",
    "        self.ticks = ticks\n",
    "        \n",
    "    def __repr__(self):\n",
    "        return 'ProgramDistorter(ticks={:.2f})'.format(self.ticks)\n",
    "    \n",
    "    def randomize(self, params=None):\n",
    "        '''\n",
    "        For now, just sample an instrument from the list at random.\n",
    "        \n",
    "        Parameters\n",
    "        ----------\n",
    "        params : dict\n",
    "            instruments : list of int\n",
    "                list of instruments to sample from\n",
    "        \n",
    "        [TODO]\n",
    "        Parameters\n",
    "        ----------\n",
    "        params : dict\n",
    "            lambda : float\n",
    "                define distribution on number of instruments self.ni\n",
    "                where self.ni ~ Exp(lambda)\n",
    "                i.e., P(self.ni)\n",
    "            min, max : float\n",
    "                where self.min, self.max ~ U(min, max)\n",
    "                and min < max\n",
    "        '''\n",
    "        p = {'instruments': [0, 1, 2, 3]}\n",
    "        if params:\n",
    "            p.update(params)\n",
    "        self.instrument = np.random.choice(p['instruments'])\n",
    "        \n",
    "    def _distort(self, pattern, new_pattern):\n",
    "        new_pattern.zero()\n",
    "        new_events = [midi.ProgramChangeEvent(\n",
    "                channel=ch,\n",
    "                value=self.instrument) for ch in xrange(16)]\n",
    "        for idx, e in enumerate(pattern[0]):\n",
    "            if not isinstance(e, midi.ProgramChangeEvent):\n",
    "                new_events.append(e)\n",
    "                '''\n",
    "                if idx % self.ticks == 0:\n",
    "                    instrument = np.random.randint(4)\n",
    "                    new_events += [midi.ProgramChangeEvent(\n",
    "                        channel=ch,\n",
    "                        value=instrument) for ch in xrange(16)]\n",
    "                '''\n",
    "        new_pattern.append(midi.Track(new_events))\n",
    "        # Rebuild attributes and stamps\n",
    "        new_pattern.init_attributes()\n",
    "        new_pattern.stamp_time('t0')\n",
    "        return new_pattern\n",
    "    \n",
    "    \n",
    "class TempoDistorter(Distorter):\n",
    "    '''\n",
    "    Change tempo by offsetting ticks.\n",
    "    \n",
    "    This ignores SetTempoEvent and does not introduce additional ones.\n",
    "    Instead it offsets the ticks.\n",
    "    '''\n",
    "    def __init__(self, sigma=0.5, min=0.5, max=2.):\n",
    "        '''\n",
    "        Parameters\n",
    "        ----------\n",
    "        sigma : float\n",
    "            standard deviation of derivative of random walk\n",
    "            per quarter note\n",
    "        min : float\n",
    "            minimum multiple of original tempo\n",
    "        max : float\n",
    "            maximum multiple of original tempo\n",
    "        '''\n",
    "        self.sigma = sigma\n",
    "        self.min = min\n",
    "        self.max = max\n",
    "        \n",
    "    def __repr__(self):\n",
    "        return 'TempoDistorter(sigma={:.2f}, min={:.2f}, max={:.2f})'.format(self.sigma, self.min, self.max) \n",
    "    \n",
    "    def randomize(self, params=None):\n",
    "        '''\n",
    "        Parameters\n",
    "        ----------\n",
    "        params : dict\n",
    "            min_sigma, max_sigma : float\n",
    "                where self.sigma ~ U(min_sigma, max_sigma)\n",
    "            min, max : float\n",
    "                where self.min, self.max ~ U(min, max)\n",
    "                and min < max\n",
    "        '''\n",
    "        p = {'min_sigma': 0., 'max_sigma': 1.,\n",
    "             'min': 0.6, 'max': 1.5}\n",
    "        if params:\n",
    "            p.update(params)\n",
    "        self.sigma = np.random.uniform(p['min_sigma'], p['max_sigma'])\n",
    "        a, b = np.random.uniform(p['min'], p['max'], size=2)\n",
    "        self.min = min(a, b)\n",
    "        self.max = max(a, b)\n",
    "        \n",
    "    def _distort(self, pattern, new_pattern):\n",
    "        sigma_per_tick = self.sigma / np.sqrt(pattern.resolution)\n",
    "        multiple = 1.  # original value\n",
    "        for track in new_pattern:\n",
    "            for e in track:\n",
    "                tmp_multiple = (multiple + sigma_per_tick \n",
    "                                * np.random.normal()\n",
    "                                * np.sqrt(float(e.tick)))\n",
    "                multiple = np.clip(tmp_multiple, self.min, self.max)\n",
    "                #print 'multiple {} bpm {}'.format(\n",
    "                    #multiple, 120./multiple)\n",
    "                tmp_tick = e.tick * multiple\n",
    "                e.tick = np.clip(int(tmp_tick), 1, 127)\n",
    "        return new_pattern\n",
    "    \n",
    "    \n",
    "\n",
    "class TimeNoiseDistorter(Distorter):\n",
    "    '''\n",
    "    Add gaussian noise on individual note event ticks\n",
    "    TODO: make sigma relative to note duration,\n",
    "          change note duration\n",
    "    \n",
    "    TODO: Special care must be taken to preserve NoteOn/NoteOff precedence.\n",
    "    '''\n",
    "    def __init__(self, sigma=0.1):\n",
    "        '''\n",
    "        Parameters\n",
    "        ----------\n",
    "        sigma : float\n",
    "            standard deviation of offset on tick in quarter notes\n",
    "        '''\n",
    "        self.sigma = sigma\n",
    "        \n",
    "    def __repr__(self):\n",
    "        return 'TimeNoiseDistorter(sigma={:.2f})'.format(self.sigma)\n",
    "        \n",
    "    def randomize(self, params=None):\n",
    "        '''\n",
    "        Parameters\n",
    "        ----------\n",
    "        params : dict\n",
    "            min_sigma, max_sigma : float\n",
    "                where self.sigma ~ U(min_sigma, max_sigma)\n",
    "        '''\n",
    "        p = {'min_sigma': 0., 'max_sigma': 0.1}\n",
    "        if params:\n",
    "            p.update(params)\n",
    "        self.sigma = np.random.uniform(\n",
    "            p['min_sigma'], p['max_sigma'])\n",
    "        \n",
    "    def _distort(self, pattern, new_pattern):\n",
    "        new_pattern.make_ticks_abs()\n",
    "        for track, track_attributes in zip(new_pattern, new_pattern.attributes):\n",
    "            for e in track:\n",
    "                if (isinstance(e, midi.NoteOnEvent) and\n",
    "                        e.get_velocity() > 0):\n",
    "                    tmp_tick = self.sigma*np.random.normal()*pattern.resolution\n",
    "                    e.tick = max(int(e.tick + tmp_tick), 1)\n",
    "            # Fix end of track event - make it the last\n",
    "            end_of_track_tick = max(e.tick for e in track)\n",
    "            for e in track:\n",
    "                if isinstance(e, midi.EndOfTrackEvent):\n",
    "                    e.tick = end_of_track_tick\n",
    "        new_pattern.make_ticks_rel()\n",
    "        return new_pattern\n",
    "\n"
   ]
  },
  {
   "cell_type": "code",
   "execution_count": 9,
   "metadata": {
    "collapsed": false
   },
   "outputs": [
    {
     "name": "stdout",
     "output_type": "stream",
     "text": [
      "VelocityNoiseDistorter(sigma=17.68)\n",
      "Was playing note 5 time 2.66666666667\n"
     ]
    }
   ],
   "source": [
    "distorter = VelocityNoiseDistorter(sigma=20.)\n",
    "distorter.randomize()\n",
    "print distorter\n",
    "dist_pattern = distorter.distort(simple)\n",
    "midi.write_midifile('generated/velocity-noise.mid', dist_pattern)\n",
    "dist_pattern.play(bpm=180)"
   ]
  },
  {
   "cell_type": "code",
   "execution_count": 10,
   "metadata": {
    "collapsed": false
   },
   "outputs": [
    {
     "name": "stdout",
     "output_type": "stream",
     "text": [
      "[{'t': 206.99999999999994, 't0': 206.99999999999994}, {'t': 206.99999999999994, 't0': 206.99999999999994}, {'t': 206.99999999999994, 't0': 206.99999999999994}, {'t': 209.52109374999995, 't0': 209.52109374999995}]\n"
     ]
    }
   ],
   "source": [
    "print dist_pattern.attributes[0][-4:]"
   ]
  },
  {
   "cell_type": "code",
   "execution_count": 11,
   "metadata": {
    "collapsed": false
   },
   "outputs": [
    {
     "name": "stdout",
     "output_type": "stream",
     "text": [
      "VelocityWalkDistorter(sigma=16.56, min=1.00, max=1.11)\n",
      "Was playing note 20 time 3.33333333333\n"
     ]
    }
   ],
   "source": [
    "distorter = VelocityWalkDistorter(sigma=0.1)\n",
    "distorter.randomize()\n",
    "print distorter\n",
    "dist_pattern = distorter.distort(simple)\n",
    "midi.write_midifile('generated/velocity-walk.mid', dist_pattern)\n",
    "dist_pattern.play(bpm=180)"
   ]
  },
  {
   "cell_type": "code",
   "execution_count": 12,
   "metadata": {
    "collapsed": false
   },
   "outputs": [
    {
     "name": "stdout",
     "output_type": "stream",
     "text": [
      "ProgramDistorter(ticks=0.00)\n",
      "Was playing note 28 time 3.0\n"
     ]
    }
   ],
   "source": [
    "distorter = ProgramDistorter()\n",
    "distorter.randomize()\n",
    "# for some reason GM 1- 3 makes no sound in pygame?\n",
    "print distorter\n",
    "dist_pattern = distorter.distort(simple)\n",
    "midi.write_midifile('generated/program.mid', dist_pattern)\n",
    "dist_pattern.play(bpm=180)"
   ]
  },
  {
   "cell_type": "code",
   "execution_count": 13,
   "metadata": {
    "collapsed": false
   },
   "outputs": [
    {
     "name": "stdout",
     "output_type": "stream",
     "text": [
      "TempoDistorter(sigma=0.49, min=1.10, max=1.21)\n",
      "time warp [{'t': 206.99999999999994, 't0': 206.99999999999994}, {'t': 206.99999999999994, 't0': 206.99999999999994}, {'t': 206.99999999999994, 't0': 206.99999999999994}, {'t': 209.52109374999995, 't0': 209.52109374999995}]\n",
      "Was playing note 50 time 1.96041666667\n"
     ]
    }
   ],
   "source": [
    "distorter = TempoDistorter(sigma=0, min=0.5, max=2.)\n",
    "distorter.randomize()\n",
    "print distorter\n",
    "print 'time warp', dist_pattern.attributes[0][-4:]\n",
    "dist_pattern = distorter.distort(simple)\n",
    "midi.write_midifile('generated/tempo.mid', dist_pattern)\n",
    "dist_pattern.play(bpm=180)"
   ]
  },
  {
   "cell_type": "code",
   "execution_count": 14,
   "metadata": {
    "collapsed": false
   },
   "outputs": [
    {
     "name": "stdout",
     "output_type": "stream",
     "text": [
      "TimeNoiseDistorter(sigma=0.05)\n",
      "time warp [{'t': 205.64010416666034, 't0': 206.99999999999994}, {'t': 205.64088541666032, 't0': 206.99999999999994}, {'t': 205.6416666666603, 't0': 206.99999999999994}, {'t': 205.74088541666032, 't0': 209.52109374999995}]\n",
      "Was playing note 9 time 2.77777777778\n"
     ]
    }
   ],
   "source": [
    "distorter = TimeNoiseDistorter()\n",
    "distorter.randomize()\n",
    "print distorter\n",
    "print 'time warp', dist_pattern.attributes[0][-4:]\n",
    "dist_pattern = distorter.distort(simple)\n",
    "midi.write_midifile('generated/time.mid', dist_pattern)\n",
    "dist_pattern.play(bpm=180)"
   ]
  },
  {
   "cell_type": "markdown",
   "metadata": {
    "collapsed": false
   },
   "source": [
    "Individual Note Times to Global Alignment\n",
    "-------"
   ]
  },
  {
   "cell_type": "code",
   "execution_count": 15,
   "metadata": {
    "collapsed": true
   },
   "outputs": [],
   "source": [
    "def align_frame_to_frame(pattern, stride):\n",
    "    '''\n",
    "    Parameters\n",
    "    ----------\n",
    "    pattern : MidiPattern\n",
    "        pattern with alignment attributes\n",
    "        't0' for reference time\n",
    "        't' for candidate time (times to align)\n",
    "    stride : float\n",
    "        stride of window in seconds\n",
    "        \n",
    "    Returns\n",
    "    -------\n",
    "    align : list of int\n",
    "        alignment of each candidate window to index of target window\n",
    "        \n",
    "    TODO\n",
    "    ----\n",
    "    Smooth using kernel instead of binning candidate + averaging target\n",
    "    reference by chord/duration of nth note\n",
    "    interpolate empty reference measures    \n",
    "        \n",
    "    Currently, move a non-overlapping window over the pattern.\n",
    "    Candidate window events have their time averaged.\n",
    "    It is then assigned to the closest window.\n",
    "    '''\n",
    "    # Collect info for each candidate window\n",
    "    windows = {}\n",
    "    for track_attributes in pattern.attributes:\n",
    "        for e_attr in track_attributes:\n",
    "            ref_idx = int(e_attr['t'] / stride)\n",
    "            windows.setdefault(ref_idx, [])\n",
    "            windows[ref_idx].append(e_attr['t0'])\n",
    "    # Average\n",
    "    avg = {}\n",
    "    for cand_idx, w in windows.items():\n",
    "        avg[cand_idx] = int(sum(t for t in w) / float(len(w)))\n",
    "    # Fill holes\n",
    "    align = []\n",
    "    last = 0.\n",
    "    for cand_idx, ref_idx in sorted(avg.items()):\n",
    "        # fill holes with linear interpolation\n",
    "        repl = np.linspace(float(last), float(ref_idx), num=(cand_idx - len(align) + 2))[1:]\n",
    "        last = ref_idx\n",
    "        #repl = [ref_idx] * (cand_idx - len(align) + 1)\n",
    "        align += list(repl.astype(int))\n",
    "    return align\n",
    "        \n",
    "    "
   ]
  },
  {
   "cell_type": "code",
   "execution_count": 16,
   "metadata": {
    "collapsed": false
   },
   "outputs": [
    {
     "data": {
      "text/plain": [
       "[0,\n",
       " 1,\n",
       " 3,\n",
       " 3,\n",
       " 4,\n",
       " 5,\n",
       " 6,\n",
       " 7,\n",
       " 8,\n",
       " 9,\n",
       " 10,\n",
       " 11,\n",
       " 12,\n",
       " 13,\n",
       " 14,\n",
       " 15,\n",
       " 16,\n",
       " 17,\n",
       " 18,\n",
       " 19,\n",
       " 20,\n",
       " 21,\n",
       " 22,\n",
       " 23,\n",
       " 24,\n",
       " 25,\n",
       " 26,\n",
       " 27,\n",
       " 28,\n",
       " 29,\n",
       " 30,\n",
       " 31,\n",
       " 32,\n",
       " 33,\n",
       " 34,\n",
       " 35,\n",
       " 36,\n",
       " 37,\n",
       " 38,\n",
       " 39,\n",
       " 40,\n",
       " 41,\n",
       " 42,\n",
       " 43,\n",
       " 44,\n",
       " 45,\n",
       " 46,\n",
       " 47,\n",
       " 48,\n",
       " 49,\n",
       " 50,\n",
       " 51,\n",
       " 52,\n",
       " 53,\n",
       " 54,\n",
       " 55,\n",
       " 56,\n",
       " 57,\n",
       " 58,\n",
       " 59,\n",
       " 60,\n",
       " 61,\n",
       " 62,\n",
       " 63,\n",
       " 64,\n",
       " 65,\n",
       " 66,\n",
       " 67,\n",
       " 68,\n",
       " 69,\n",
       " 70,\n",
       " 71,\n",
       " 72,\n",
       " 73,\n",
       " 74,\n",
       " 75,\n",
       " 76,\n",
       " 77,\n",
       " 78,\n",
       " 79,\n",
       " 80,\n",
       " 81,\n",
       " 82,\n",
       " 83,\n",
       " 84,\n",
       " 85,\n",
       " 86,\n",
       " 87,\n",
       " 88,\n",
       " 89,\n",
       " 90,\n",
       " 91,\n",
       " 92,\n",
       " 93,\n",
       " 94,\n",
       " 95,\n",
       " 96,\n",
       " 97,\n",
       " 98,\n",
       " 99,\n",
       " 100,\n",
       " 101,\n",
       " 102,\n",
       " 103,\n",
       " 104,\n",
       " 105,\n",
       " 106,\n",
       " 107,\n",
       " 108,\n",
       " 109,\n",
       " 110,\n",
       " 111,\n",
       " 112,\n",
       " 113,\n",
       " 114,\n",
       " 115,\n",
       " 116,\n",
       " 117,\n",
       " 118,\n",
       " 119,\n",
       " 120,\n",
       " 121,\n",
       " 122,\n",
       " 123,\n",
       " 124,\n",
       " 125,\n",
       " 126,\n",
       " 127,\n",
       " 128,\n",
       " 129,\n",
       " 130,\n",
       " 131,\n",
       " 132,\n",
       " 133,\n",
       " 134,\n",
       " 135,\n",
       " 136,\n",
       " 137,\n",
       " 138,\n",
       " 139,\n",
       " 140,\n",
       " 141,\n",
       " 142,\n",
       " 143,\n",
       " 144,\n",
       " 145,\n",
       " 146,\n",
       " 147,\n",
       " 148,\n",
       " 149,\n",
       " 150,\n",
       " 151,\n",
       " 152,\n",
       " 153,\n",
       " 154,\n",
       " 155,\n",
       " 156,\n",
       " 157,\n",
       " 158,\n",
       " 159,\n",
       " 160,\n",
       " 161,\n",
       " 162,\n",
       " 163,\n",
       " 164,\n",
       " 165,\n",
       " 166,\n",
       " 167,\n",
       " 168,\n",
       " 169,\n",
       " 170,\n",
       " 171,\n",
       " 172,\n",
       " 173,\n",
       " 174,\n",
       " 175,\n",
       " 176,\n",
       " 177,\n",
       " 178,\n",
       " 179,\n",
       " 180,\n",
       " 181,\n",
       " 182,\n",
       " 183,\n",
       " 184,\n",
       " 185,\n",
       " 186,\n",
       " 187,\n",
       " 188,\n",
       " 189,\n",
       " 190,\n",
       " 191,\n",
       " 192,\n",
       " 193,\n",
       " 194,\n",
       " 195,\n",
       " 196,\n",
       " 197,\n",
       " 198,\n",
       " 199,\n",
       " 200,\n",
       " 201,\n",
       " 202,\n",
       " 203,\n",
       " 204,\n",
       " 205,\n",
       " 206,\n",
       " 207,\n",
       " 208,\n",
       " 209]"
      ]
     },
     "execution_count": 16,
     "metadata": {},
     "output_type": "execute_result"
    }
   ],
   "source": [
    "stride = 1.\n",
    "align = align_frame_to_frame(dist_pattern, stride)\n",
    "align"
   ]
  },
  {
   "cell_type": "markdown",
   "metadata": {},
   "source": [
    "Alignment IO\n",
    "----"
   ]
  },
  {
   "cell_type": "code",
   "execution_count": 17,
   "metadata": {
    "collapsed": true
   },
   "outputs": [],
   "source": [
    "def write_align(fname, align, stride):\n",
    "    '''\n",
    "    Write alignment to file\n",
    "    '''\n",
    "    with open(fname, 'w') as f:\n",
    "        f.write('{}\\n'.format(stride))\n",
    "        f.write('\\n'.join(map(str, align)))\n",
    "        \n",
    "def read_align(fname):\n",
    "    '''\n",
    "    Read alignment from file\\\n",
    "    \n",
    "    Returns\n",
    "    -------\n",
    "    align : list of float\n",
    "        alignments in seconds for each candidate window\n",
    "    stride : float\n",
    "        duration of window\n",
    "    '''\n",
    "    with open(fname, 'r') as f:\n",
    "        numbers = [float(l.strip()) for l in f]\n",
    "        return numbers[1:], numbers[0]"
   ]
  },
  {
   "cell_type": "code",
   "execution_count": 18,
   "metadata": {
    "collapsed": false
   },
   "outputs": [
    {
     "name": "stdout",
     "output_type": "stream",
     "text": [
      "True\n",
      "True 1.0 1.0\n"
     ]
    }
   ],
   "source": [
    "write_align('generated/align.txt', align, stride)\n",
    "align2, stride2 = read_align('generated/align.txt')\n",
    "print align2 == align\n",
    "print int(stride2) == int(stride), stride2, stride"
   ]
  },
  {
   "cell_type": "code",
   "execution_count": 19,
   "metadata": {
    "collapsed": true
   },
   "outputs": [],
   "source": [
    "def random_distort(pattern, distorters=None):\n",
    "    '''\n",
    "    Distort a simple pattern by applying a chain\n",
    "    for distortions on it.\n",
    "    \n",
    "    Parameters\n",
    "    ----------\n",
    "    pattern : MidiPattern\n",
    "        pattern to distort\n",
    "    distorters : list of Distorter\n",
    "        distorters to apply\n",
    "    '''\n",
    "    if not distorters:\n",
    "        distorters = [TempoDistorter(), TimeNoiseDistorter()]\n",
    "        for distorter in distorters:\n",
    "            distorter.randomize()\n",
    "    current = simple\n",
    "    for i, distorter in enumerate(distorters):\n",
    "        keep_stamps = i > 0\n",
    "        current = distorter.distort(current, keep_stamps)\n",
    "    return current\n",
    "\n"
   ]
  },
  {
   "cell_type": "code",
   "execution_count": 20,
   "metadata": {
    "collapsed": false
   },
   "outputs": [
    {
     "name": "stdout",
     "output_type": "stream",
     "text": [
      "[2, 4, 6, 7, 9, 10, 11, 13, 14, 16, 17, 18, 20, 21, 22, 24, 25, 26, 28, 29, 30, 32, 33, 34, 36, 37, 38, 40, 41, 43, 44, 45, 47, 48, 49, 51, 52, 53, 55, 56, 57, 59, 60, 62, 63, 64, 66, 67, 69, 70, 71, 73, 74, 75, 77, 78, 79, 81, 82, 84, 85, 86, 88, 89, 90, 92, 93, 94, 96, 97, 98, 100, 101, 102, 104, 105, 107, 108, 109, 111, 112, 113, 115, 116, 118, 119, 120, 122, 123, 124, 126, 127, 129, 130, 131, 133, 134, 135, 137, 138, 139, 141, 142, 143, 145, 146, 147, 149, 150, 152, 153, 154, 156, 157, 158, 160, 161, 162, 164, 165, 166, 168, 169, 170, 172, 173, 174, 176, 177, 178, 180, 181, 182, 184, 185, 186, 187, 189, 190, 192, 193, 194, 196, 197, 199, 200, 201, 202, 204, 209]\n",
      "Was playing note 607 time 13.1104166667\n"
     ]
    }
   ],
   "source": [
    "dist_pattern = random_distort(simple)\n",
    "align = align_frame_to_frame(dist_pattern, stride=1.)\n",
    "print align\n",
    "dist_pattern.play()"
   ]
  },
  {
   "cell_type": "markdown",
   "metadata": {},
   "source": [
    "Actual Generation\n",
    "----"
   ]
  },
  {
   "cell_type": "code",
   "execution_count": 22,
   "metadata": {
    "collapsed": false
   },
   "outputs": [
    {
     "name": "stdout",
     "output_type": "stream",
     "text": [
      "generated/sample-0.wav\n",
      "Done generating generated/sample-0\n",
      "generated/sample-1.wav\n"
     ]
    },
    {
     "ename": "KeyboardInterrupt",
     "evalue": "",
     "output_type": "error",
     "traceback": [
      "\u001b[1;31m---------------------------------------------------------------------------\u001b[0m",
      "\u001b[1;31mKeyboardInterrupt\u001b[0m                         Traceback (most recent call last)",
      "\u001b[1;32m<ipython-input-22-06bdec5c1a75>\u001b[0m in \u001b[0;36m<module>\u001b[1;34m()\u001b[0m\n\u001b[0;32m     12\u001b[0m     \u001b[1;31m# Convert to wav using timidity\u001b[0m\u001b[1;33m\u001b[0m\u001b[1;33m\u001b[0m\u001b[0m\n\u001b[0;32m     13\u001b[0m     \u001b[1;32mprint\u001b[0m \u001b[0mwav_name\u001b[0m\u001b[1;33m\u001b[0m\u001b[0m\n\u001b[1;32m---> 14\u001b[1;33m     \u001b[0msubprocess\u001b[0m\u001b[1;33m.\u001b[0m\u001b[0mcheck_call\u001b[0m\u001b[1;33m(\u001b[0m\u001b[1;33m[\u001b[0m\u001b[1;34m'timidity'\u001b[0m\u001b[1;33m,\u001b[0m \u001b[1;34m'-Ow'\u001b[0m\u001b[1;33m,\u001b[0m \u001b[0mmidi_name\u001b[0m\u001b[1;33m,\u001b[0m \u001b[1;34m'-o'\u001b[0m\u001b[1;33m,\u001b[0m \u001b[0mwav_name\u001b[0m\u001b[1;33m]\u001b[0m\u001b[1;33m)\u001b[0m\u001b[1;33m\u001b[0m\u001b[0m\n\u001b[0m\u001b[0;32m     15\u001b[0m     \u001b[1;32mprint\u001b[0m \u001b[1;34m'Done generating {}'\u001b[0m\u001b[1;33m.\u001b[0m\u001b[0mformat\u001b[0m\u001b[1;33m(\u001b[0m\u001b[0mbase_name\u001b[0m\u001b[1;33m)\u001b[0m\u001b[1;33m\u001b[0m\u001b[0m\n",
      "\u001b[1;32m/usr/lib/python2.7/subprocess.pyc\u001b[0m in \u001b[0;36mcheck_call\u001b[1;34m(*popenargs, **kwargs)\u001b[0m\n\u001b[0;32m    533\u001b[0m     \u001b[0mcheck_call\u001b[0m\u001b[1;33m(\u001b[0m\u001b[1;33m[\u001b[0m\u001b[1;34m\"ls\"\u001b[0m\u001b[1;33m,\u001b[0m \u001b[1;34m\"-l\"\u001b[0m\u001b[1;33m]\u001b[0m\u001b[1;33m)\u001b[0m\u001b[1;33m\u001b[0m\u001b[0m\n\u001b[0;32m    534\u001b[0m     \"\"\"\n\u001b[1;32m--> 535\u001b[1;33m     \u001b[0mretcode\u001b[0m \u001b[1;33m=\u001b[0m \u001b[0mcall\u001b[0m\u001b[1;33m(\u001b[0m\u001b[1;33m*\u001b[0m\u001b[0mpopenargs\u001b[0m\u001b[1;33m,\u001b[0m \u001b[1;33m**\u001b[0m\u001b[0mkwargs\u001b[0m\u001b[1;33m)\u001b[0m\u001b[1;33m\u001b[0m\u001b[0m\n\u001b[0m\u001b[0;32m    536\u001b[0m     \u001b[1;32mif\u001b[0m \u001b[0mretcode\u001b[0m\u001b[1;33m:\u001b[0m\u001b[1;33m\u001b[0m\u001b[0m\n\u001b[0;32m    537\u001b[0m         \u001b[0mcmd\u001b[0m \u001b[1;33m=\u001b[0m \u001b[0mkwargs\u001b[0m\u001b[1;33m.\u001b[0m\u001b[0mget\u001b[0m\u001b[1;33m(\u001b[0m\u001b[1;34m\"args\"\u001b[0m\u001b[1;33m)\u001b[0m\u001b[1;33m\u001b[0m\u001b[0m\n",
      "\u001b[1;32m/usr/lib/python2.7/subprocess.pyc\u001b[0m in \u001b[0;36mcall\u001b[1;34m(*popenargs, **kwargs)\u001b[0m\n\u001b[0;32m    520\u001b[0m     \u001b[0mretcode\u001b[0m \u001b[1;33m=\u001b[0m \u001b[0mcall\u001b[0m\u001b[1;33m(\u001b[0m\u001b[1;33m[\u001b[0m\u001b[1;34m\"ls\"\u001b[0m\u001b[1;33m,\u001b[0m \u001b[1;34m\"-l\"\u001b[0m\u001b[1;33m]\u001b[0m\u001b[1;33m)\u001b[0m\u001b[1;33m\u001b[0m\u001b[0m\n\u001b[0;32m    521\u001b[0m     \"\"\"\n\u001b[1;32m--> 522\u001b[1;33m     \u001b[1;32mreturn\u001b[0m \u001b[0mPopen\u001b[0m\u001b[1;33m(\u001b[0m\u001b[1;33m*\u001b[0m\u001b[0mpopenargs\u001b[0m\u001b[1;33m,\u001b[0m \u001b[1;33m**\u001b[0m\u001b[0mkwargs\u001b[0m\u001b[1;33m)\u001b[0m\u001b[1;33m.\u001b[0m\u001b[0mwait\u001b[0m\u001b[1;33m(\u001b[0m\u001b[1;33m)\u001b[0m\u001b[1;33m\u001b[0m\u001b[0m\n\u001b[0m\u001b[0;32m    523\u001b[0m \u001b[1;33m\u001b[0m\u001b[0m\n\u001b[0;32m    524\u001b[0m \u001b[1;33m\u001b[0m\u001b[0m\n",
      "\u001b[1;32m/usr/lib/python2.7/subprocess.pyc\u001b[0m in \u001b[0;36mwait\u001b[1;34m(self)\u001b[0m\n\u001b[0;32m   1374\u001b[0m             \u001b[1;32mwhile\u001b[0m \u001b[0mself\u001b[0m\u001b[1;33m.\u001b[0m\u001b[0mreturncode\u001b[0m \u001b[1;32mis\u001b[0m \u001b[0mNone\u001b[0m\u001b[1;33m:\u001b[0m\u001b[1;33m\u001b[0m\u001b[0m\n\u001b[0;32m   1375\u001b[0m                 \u001b[1;32mtry\u001b[0m\u001b[1;33m:\u001b[0m\u001b[1;33m\u001b[0m\u001b[0m\n\u001b[1;32m-> 1376\u001b[1;33m                     \u001b[0mpid\u001b[0m\u001b[1;33m,\u001b[0m \u001b[0msts\u001b[0m \u001b[1;33m=\u001b[0m \u001b[0m_eintr_retry_call\u001b[0m\u001b[1;33m(\u001b[0m\u001b[0mos\u001b[0m\u001b[1;33m.\u001b[0m\u001b[0mwaitpid\u001b[0m\u001b[1;33m,\u001b[0m \u001b[0mself\u001b[0m\u001b[1;33m.\u001b[0m\u001b[0mpid\u001b[0m\u001b[1;33m,\u001b[0m \u001b[1;36m0\u001b[0m\u001b[1;33m)\u001b[0m\u001b[1;33m\u001b[0m\u001b[0m\n\u001b[0m\u001b[0;32m   1377\u001b[0m                 \u001b[1;32mexcept\u001b[0m \u001b[0mOSError\u001b[0m \u001b[1;32mas\u001b[0m \u001b[0me\u001b[0m\u001b[1;33m:\u001b[0m\u001b[1;33m\u001b[0m\u001b[0m\n\u001b[0;32m   1378\u001b[0m                     \u001b[1;32mif\u001b[0m \u001b[0me\u001b[0m\u001b[1;33m.\u001b[0m\u001b[0merrno\u001b[0m \u001b[1;33m!=\u001b[0m \u001b[0merrno\u001b[0m\u001b[1;33m.\u001b[0m\u001b[0mECHILD\u001b[0m\u001b[1;33m:\u001b[0m\u001b[1;33m\u001b[0m\u001b[0m\n",
      "\u001b[1;32m/usr/lib/python2.7/subprocess.pyc\u001b[0m in \u001b[0;36m_eintr_retry_call\u001b[1;34m(func, *args)\u001b[0m\n\u001b[0;32m    474\u001b[0m     \u001b[1;32mwhile\u001b[0m \u001b[0mTrue\u001b[0m\u001b[1;33m:\u001b[0m\u001b[1;33m\u001b[0m\u001b[0m\n\u001b[0;32m    475\u001b[0m         \u001b[1;32mtry\u001b[0m\u001b[1;33m:\u001b[0m\u001b[1;33m\u001b[0m\u001b[0m\n\u001b[1;32m--> 476\u001b[1;33m             \u001b[1;32mreturn\u001b[0m \u001b[0mfunc\u001b[0m\u001b[1;33m(\u001b[0m\u001b[1;33m*\u001b[0m\u001b[0margs\u001b[0m\u001b[1;33m)\u001b[0m\u001b[1;33m\u001b[0m\u001b[0m\n\u001b[0m\u001b[0;32m    477\u001b[0m         \u001b[1;32mexcept\u001b[0m \u001b[1;33m(\u001b[0m\u001b[0mOSError\u001b[0m\u001b[1;33m,\u001b[0m \u001b[0mIOError\u001b[0m\u001b[1;33m)\u001b[0m \u001b[1;32mas\u001b[0m \u001b[0me\u001b[0m\u001b[1;33m:\u001b[0m\u001b[1;33m\u001b[0m\u001b[0m\n\u001b[0;32m    478\u001b[0m             \u001b[1;32mif\u001b[0m \u001b[0me\u001b[0m\u001b[1;33m.\u001b[0m\u001b[0merrno\u001b[0m \u001b[1;33m==\u001b[0m \u001b[0merrno\u001b[0m\u001b[1;33m.\u001b[0m\u001b[0mEINTR\u001b[0m\u001b[1;33m:\u001b[0m\u001b[1;33m\u001b[0m\u001b[0m\n",
      "\u001b[1;31mKeyboardInterrupt\u001b[0m: "
     ]
    }
   ],
   "source": [
    "num_samples = 10\n",
    "stride = 0.1\n",
    "for i in xrange(num_samples):\n",
    "    base_name = 'generated/sample-{}'.format(i)\n",
    "    align_name = '{}.txt'.format(base_name)\n",
    "    midi_name = '{}.mid'.format(base_name)\n",
    "    wav_name = '{}.wav'.format(base_name)\n",
    "    distorted = random_distort(base_name)\n",
    "    align = align_frame_to_frame(distorted, stride)\n",
    "    write_align(align_name, align, stride)\n",
    "    midi.write_midifile(midi_name, distorted)\n",
    "    # Convert to wav using timidity\n",
    "    print wav_name\n",
    "    subprocess.check_call(['timidity', '-Ow', midi_name, '-o', wav_name])\n",
    "    print 'Done generating {}'.format(base_name)"
   ]
  },
  {
   "cell_type": "code",
   "execution_count": null,
   "metadata": {
    "collapsed": true
   },
   "outputs": [],
   "source": []
  }
 ],
 "metadata": {
  "kernelspec": {
   "display_name": "Python 2",
   "language": "python",
   "name": "python2"
  },
  "language_info": {
   "codemirror_mode": {
    "name": "ipython",
    "version": 2
   },
   "file_extension": ".py",
   "mimetype": "text/x-python",
   "name": "python",
   "nbconvert_exporter": "python",
   "pygments_lexer": "ipython2",
   "version": "2.7.6"
  }
 },
 "nbformat": 4,
 "nbformat_minor": 0
}
